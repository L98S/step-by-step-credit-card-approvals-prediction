{
 "cells": [
  {
   "cell_type": "markdown",
   "id": "d90a8d06",
   "metadata": {},
   "source": [
    "# Introduction \n",
    "Each year, banks are inundated with hundreds of credit card applications. The approval process for each application relies on several crucial factors, such as income level, delinquency records, and credit history. However, manually reviewing every single application can be an tedious, error-prone, and time-consuming task. Fortunately, the power of machine learning offers an automated solution to streamline this process. Nowadays, the majority, if not all, banks utilize machine learning algorithms to detect credit card approval. In this project, I aim to develop a credit card approval prediction by using machine learning techniques.\n",
    "\n",
    "#### About the dataset:\n",
    "I'll be using the [Credit Approval Data Set](http://archive.ics.uci.edu/ml/datasets/credit+approval) from the UCI Machine Learning Repository, which is a widely used dataset for credit card application analysis, it consists of a collection of anonymized credit card applications with various features and a corresponding target variable indicating whether the application was approved or not. The dataset includes numerical and categorical attributes. The target variable is binary, with '+' for approval and '-' for denial. Missing values are present, requiring data cleaning and preprocessing."
   ]
  },
  {
   "cell_type": "markdown",
   "id": "bfb0a0e5",
   "metadata": {},
   "source": [
    "## Table of Contents\n",
    "* [1.Load the data](#1-load-the-data)\n",
    "* [2. Take a quick look at the data structure](#2-take-a-quick-look-at-the-data-structure)\n",
    "* [3. Splitting the dataset into train and test sets](#3-splitting-the-dataset-into-train-and-test-sets)\n",
    "    * [Stratify sampling](#stratify-sampling)\n",
    "* [4. Discover and Visualize the Data to Gain Insights](#4-discover-and-visualize-the-data-to-gain-insights)\n",
    "    * [4.1 Exploratory data analysis for categorical attributes](#41-exploratory-data-analysis-for-categorical-attributes)\n",
    "        * [Separating the categorical and numerical attributes](#separating-the-categorical-and-numerical-attributes)\n",
    "        * [Frequency Distribution](#frequency-distribution)\n",
    "        * [Target Variable Analysis](#target-variable-analysis)\n",
    "        * [Analyzing the correlation between categorical attributes and the target variable](#analyzing-the-correlation-between-categorical-attributes-and-the-target-variable)\n",
    "    * [4.2 Exploratory data analysis for numerical attributes](#42-exploratory-data-analysis-for-numerical-attributes)\n",
    "        * [Summarizing numerical attributes](#summarizing-numerical-attributes)\n",
    "        * [Analyzing the correlation between numerical attributes and the target variable](#analyzing-the-correlation-between-numerical-attributes-and-the-target-variable)\n",
    "        * [Visualizing the correlations between numerical attributes](#visualizing-the-correlations-between-numerical-attributes)\n",
    "* [5. Handling missing values](#5-handling-missing-values)\n",
    "    * [Missing values for categorical attributes](#missing-values-for-categorical-attributes)\n",
    "    * [5.1 Missing values for numerical attributes](#51-missing-values-for-numerical-attributes)\n",
    "* [6. Preprocessing the data](#6-preprocessing-the-data)\n",
    "    * [6.1 Feature selection](#61-feature-selection)\n",
    "        * [Highly correlated features](#highly-correlated-features)\n",
    "        * [Important features](#important-features)\n",
    "    * [6.2 Preparing the data for training](#62-preparing-the-data-for-training)\n",
    "* [7. Trying out different models](#7-trying-out-different-models)\n",
    "    * [Models predictions and evaluation](#models-predictions-and-evaluation)\n",
    "    * [Fine-tuning the most promising models](#fine-tuning-the-most-promising-models)\n",
    "* [8.Evaluating the best performing model on the test set](#8-Evaluating-the-best-performing-model-on-the-test-set)\n",
    "* [9. Conclusion](#9-conclusion)\n"
   ]
  },
  {
   "cell_type": "markdown",
   "id": "a2db369e",
   "metadata": {},
   "source": [
    "## 1.Load the data "
   ]
  },
  {
   "cell_type": "code",
   "execution_count": 1,
   "id": "b5fa6b43",
   "metadata": {},
   "outputs": [],
   "source": [
    "#import important libraries\n",
    "import numpy as np \n",
    "import pandas as pd\n",
    "import matplotlib.pyplot as plt"
   ]
  },
  {
   "cell_type": "code",
   "execution_count": 2,
   "id": "7c52dec0",
   "metadata": {},
   "outputs": [],
   "source": [
    "#load the data\n",
    "df = pd.read_csv('C:\\\\Users\\\\C-ROAD\\\\Downloads\\\\crx (2).data' , header = None)"
   ]
  },
  {
   "cell_type": "markdown",
   "id": "61a72767",
   "metadata": {},
   "source": [
    "## 2.Take a quick look at the data structure"
   ]
  },
  {
   "cell_type": "code",
   "execution_count": 3,
   "id": "c505d846",
   "metadata": {},
   "outputs": [
    {
     "data": {
      "text/html": [
       "<div>\n",
       "<style scoped>\n",
       "    .dataframe tbody tr th:only-of-type {\n",
       "        vertical-align: middle;\n",
       "    }\n",
       "\n",
       "    .dataframe tbody tr th {\n",
       "        vertical-align: top;\n",
       "    }\n",
       "\n",
       "    .dataframe thead th {\n",
       "        text-align: right;\n",
       "    }\n",
       "</style>\n",
       "<table border=\"1\" class=\"dataframe\">\n",
       "  <thead>\n",
       "    <tr style=\"text-align: right;\">\n",
       "      <th></th>\n",
       "      <th>0</th>\n",
       "      <th>1</th>\n",
       "      <th>2</th>\n",
       "      <th>3</th>\n",
       "      <th>4</th>\n",
       "      <th>5</th>\n",
       "      <th>6</th>\n",
       "      <th>7</th>\n",
       "      <th>8</th>\n",
       "      <th>9</th>\n",
       "      <th>10</th>\n",
       "      <th>11</th>\n",
       "      <th>12</th>\n",
       "      <th>13</th>\n",
       "      <th>14</th>\n",
       "      <th>15</th>\n",
       "    </tr>\n",
       "  </thead>\n",
       "  <tbody>\n",
       "    <tr>\n",
       "      <th>670</th>\n",
       "      <td>b</td>\n",
       "      <td>47.17</td>\n",
       "      <td>5.835</td>\n",
       "      <td>u</td>\n",
       "      <td>g</td>\n",
       "      <td>w</td>\n",
       "      <td>v</td>\n",
       "      <td>5.500</td>\n",
       "      <td>f</td>\n",
       "      <td>f</td>\n",
       "      <td>0</td>\n",
       "      <td>f</td>\n",
       "      <td>g</td>\n",
       "      <td>00465</td>\n",
       "      <td>150</td>\n",
       "      <td>-</td>\n",
       "    </tr>\n",
       "    <tr>\n",
       "      <th>671</th>\n",
       "      <td>b</td>\n",
       "      <td>25.83</td>\n",
       "      <td>12.835</td>\n",
       "      <td>u</td>\n",
       "      <td>g</td>\n",
       "      <td>cc</td>\n",
       "      <td>v</td>\n",
       "      <td>0.500</td>\n",
       "      <td>f</td>\n",
       "      <td>f</td>\n",
       "      <td>0</td>\n",
       "      <td>f</td>\n",
       "      <td>g</td>\n",
       "      <td>00000</td>\n",
       "      <td>2</td>\n",
       "      <td>-</td>\n",
       "    </tr>\n",
       "    <tr>\n",
       "      <th>672</th>\n",
       "      <td>a</td>\n",
       "      <td>50.25</td>\n",
       "      <td>0.835</td>\n",
       "      <td>u</td>\n",
       "      <td>g</td>\n",
       "      <td>aa</td>\n",
       "      <td>v</td>\n",
       "      <td>0.500</td>\n",
       "      <td>f</td>\n",
       "      <td>f</td>\n",
       "      <td>0</td>\n",
       "      <td>t</td>\n",
       "      <td>g</td>\n",
       "      <td>00240</td>\n",
       "      <td>117</td>\n",
       "      <td>-</td>\n",
       "    </tr>\n",
       "    <tr>\n",
       "      <th>673</th>\n",
       "      <td>?</td>\n",
       "      <td>29.50</td>\n",
       "      <td>2.000</td>\n",
       "      <td>y</td>\n",
       "      <td>p</td>\n",
       "      <td>e</td>\n",
       "      <td>h</td>\n",
       "      <td>2.000</td>\n",
       "      <td>f</td>\n",
       "      <td>f</td>\n",
       "      <td>0</td>\n",
       "      <td>f</td>\n",
       "      <td>g</td>\n",
       "      <td>00256</td>\n",
       "      <td>17</td>\n",
       "      <td>-</td>\n",
       "    </tr>\n",
       "    <tr>\n",
       "      <th>674</th>\n",
       "      <td>a</td>\n",
       "      <td>37.33</td>\n",
       "      <td>2.500</td>\n",
       "      <td>u</td>\n",
       "      <td>g</td>\n",
       "      <td>i</td>\n",
       "      <td>h</td>\n",
       "      <td>0.210</td>\n",
       "      <td>f</td>\n",
       "      <td>f</td>\n",
       "      <td>0</td>\n",
       "      <td>f</td>\n",
       "      <td>g</td>\n",
       "      <td>00260</td>\n",
       "      <td>246</td>\n",
       "      <td>-</td>\n",
       "    </tr>\n",
       "    <tr>\n",
       "      <th>675</th>\n",
       "      <td>a</td>\n",
       "      <td>41.58</td>\n",
       "      <td>1.040</td>\n",
       "      <td>u</td>\n",
       "      <td>g</td>\n",
       "      <td>aa</td>\n",
       "      <td>v</td>\n",
       "      <td>0.665</td>\n",
       "      <td>f</td>\n",
       "      <td>f</td>\n",
       "      <td>0</td>\n",
       "      <td>f</td>\n",
       "      <td>g</td>\n",
       "      <td>00240</td>\n",
       "      <td>237</td>\n",
       "      <td>-</td>\n",
       "    </tr>\n",
       "    <tr>\n",
       "      <th>676</th>\n",
       "      <td>a</td>\n",
       "      <td>30.58</td>\n",
       "      <td>10.665</td>\n",
       "      <td>u</td>\n",
       "      <td>g</td>\n",
       "      <td>q</td>\n",
       "      <td>h</td>\n",
       "      <td>0.085</td>\n",
       "      <td>f</td>\n",
       "      <td>t</td>\n",
       "      <td>12</td>\n",
       "      <td>t</td>\n",
       "      <td>g</td>\n",
       "      <td>00129</td>\n",
       "      <td>3</td>\n",
       "      <td>-</td>\n",
       "    </tr>\n",
       "    <tr>\n",
       "      <th>677</th>\n",
       "      <td>b</td>\n",
       "      <td>19.42</td>\n",
       "      <td>7.250</td>\n",
       "      <td>u</td>\n",
       "      <td>g</td>\n",
       "      <td>m</td>\n",
       "      <td>v</td>\n",
       "      <td>0.040</td>\n",
       "      <td>f</td>\n",
       "      <td>t</td>\n",
       "      <td>1</td>\n",
       "      <td>f</td>\n",
       "      <td>g</td>\n",
       "      <td>00100</td>\n",
       "      <td>1</td>\n",
       "      <td>-</td>\n",
       "    </tr>\n",
       "    <tr>\n",
       "      <th>678</th>\n",
       "      <td>a</td>\n",
       "      <td>17.92</td>\n",
       "      <td>10.210</td>\n",
       "      <td>u</td>\n",
       "      <td>g</td>\n",
       "      <td>ff</td>\n",
       "      <td>ff</td>\n",
       "      <td>0.000</td>\n",
       "      <td>f</td>\n",
       "      <td>f</td>\n",
       "      <td>0</td>\n",
       "      <td>f</td>\n",
       "      <td>g</td>\n",
       "      <td>00000</td>\n",
       "      <td>50</td>\n",
       "      <td>-</td>\n",
       "    </tr>\n",
       "    <tr>\n",
       "      <th>679</th>\n",
       "      <td>a</td>\n",
       "      <td>20.08</td>\n",
       "      <td>1.250</td>\n",
       "      <td>u</td>\n",
       "      <td>g</td>\n",
       "      <td>c</td>\n",
       "      <td>v</td>\n",
       "      <td>0.000</td>\n",
       "      <td>f</td>\n",
       "      <td>f</td>\n",
       "      <td>0</td>\n",
       "      <td>f</td>\n",
       "      <td>g</td>\n",
       "      <td>00000</td>\n",
       "      <td>0</td>\n",
       "      <td>-</td>\n",
       "    </tr>\n",
       "    <tr>\n",
       "      <th>680</th>\n",
       "      <td>b</td>\n",
       "      <td>19.50</td>\n",
       "      <td>0.290</td>\n",
       "      <td>u</td>\n",
       "      <td>g</td>\n",
       "      <td>k</td>\n",
       "      <td>v</td>\n",
       "      <td>0.290</td>\n",
       "      <td>f</td>\n",
       "      <td>f</td>\n",
       "      <td>0</td>\n",
       "      <td>f</td>\n",
       "      <td>g</td>\n",
       "      <td>00280</td>\n",
       "      <td>364</td>\n",
       "      <td>-</td>\n",
       "    </tr>\n",
       "    <tr>\n",
       "      <th>681</th>\n",
       "      <td>b</td>\n",
       "      <td>27.83</td>\n",
       "      <td>1.000</td>\n",
       "      <td>y</td>\n",
       "      <td>p</td>\n",
       "      <td>d</td>\n",
       "      <td>h</td>\n",
       "      <td>3.000</td>\n",
       "      <td>f</td>\n",
       "      <td>f</td>\n",
       "      <td>0</td>\n",
       "      <td>f</td>\n",
       "      <td>g</td>\n",
       "      <td>00176</td>\n",
       "      <td>537</td>\n",
       "      <td>-</td>\n",
       "    </tr>\n",
       "    <tr>\n",
       "      <th>682</th>\n",
       "      <td>b</td>\n",
       "      <td>17.08</td>\n",
       "      <td>3.290</td>\n",
       "      <td>u</td>\n",
       "      <td>g</td>\n",
       "      <td>i</td>\n",
       "      <td>v</td>\n",
       "      <td>0.335</td>\n",
       "      <td>f</td>\n",
       "      <td>f</td>\n",
       "      <td>0</td>\n",
       "      <td>t</td>\n",
       "      <td>g</td>\n",
       "      <td>00140</td>\n",
       "      <td>2</td>\n",
       "      <td>-</td>\n",
       "    </tr>\n",
       "    <tr>\n",
       "      <th>683</th>\n",
       "      <td>b</td>\n",
       "      <td>36.42</td>\n",
       "      <td>0.750</td>\n",
       "      <td>y</td>\n",
       "      <td>p</td>\n",
       "      <td>d</td>\n",
       "      <td>v</td>\n",
       "      <td>0.585</td>\n",
       "      <td>f</td>\n",
       "      <td>f</td>\n",
       "      <td>0</td>\n",
       "      <td>f</td>\n",
       "      <td>g</td>\n",
       "      <td>00240</td>\n",
       "      <td>3</td>\n",
       "      <td>-</td>\n",
       "    </tr>\n",
       "    <tr>\n",
       "      <th>684</th>\n",
       "      <td>b</td>\n",
       "      <td>40.58</td>\n",
       "      <td>3.290</td>\n",
       "      <td>u</td>\n",
       "      <td>g</td>\n",
       "      <td>m</td>\n",
       "      <td>v</td>\n",
       "      <td>3.500</td>\n",
       "      <td>f</td>\n",
       "      <td>f</td>\n",
       "      <td>0</td>\n",
       "      <td>t</td>\n",
       "      <td>s</td>\n",
       "      <td>00400</td>\n",
       "      <td>0</td>\n",
       "      <td>-</td>\n",
       "    </tr>\n",
       "    <tr>\n",
       "      <th>685</th>\n",
       "      <td>b</td>\n",
       "      <td>21.08</td>\n",
       "      <td>10.085</td>\n",
       "      <td>y</td>\n",
       "      <td>p</td>\n",
       "      <td>e</td>\n",
       "      <td>h</td>\n",
       "      <td>1.250</td>\n",
       "      <td>f</td>\n",
       "      <td>f</td>\n",
       "      <td>0</td>\n",
       "      <td>f</td>\n",
       "      <td>g</td>\n",
       "      <td>00260</td>\n",
       "      <td>0</td>\n",
       "      <td>-</td>\n",
       "    </tr>\n",
       "    <tr>\n",
       "      <th>686</th>\n",
       "      <td>a</td>\n",
       "      <td>22.67</td>\n",
       "      <td>0.750</td>\n",
       "      <td>u</td>\n",
       "      <td>g</td>\n",
       "      <td>c</td>\n",
       "      <td>v</td>\n",
       "      <td>2.000</td>\n",
       "      <td>f</td>\n",
       "      <td>t</td>\n",
       "      <td>2</td>\n",
       "      <td>t</td>\n",
       "      <td>g</td>\n",
       "      <td>00200</td>\n",
       "      <td>394</td>\n",
       "      <td>-</td>\n",
       "    </tr>\n",
       "    <tr>\n",
       "      <th>687</th>\n",
       "      <td>a</td>\n",
       "      <td>25.25</td>\n",
       "      <td>13.500</td>\n",
       "      <td>y</td>\n",
       "      <td>p</td>\n",
       "      <td>ff</td>\n",
       "      <td>ff</td>\n",
       "      <td>2.000</td>\n",
       "      <td>f</td>\n",
       "      <td>t</td>\n",
       "      <td>1</td>\n",
       "      <td>t</td>\n",
       "      <td>g</td>\n",
       "      <td>00200</td>\n",
       "      <td>1</td>\n",
       "      <td>-</td>\n",
       "    </tr>\n",
       "    <tr>\n",
       "      <th>688</th>\n",
       "      <td>b</td>\n",
       "      <td>17.92</td>\n",
       "      <td>0.205</td>\n",
       "      <td>u</td>\n",
       "      <td>g</td>\n",
       "      <td>aa</td>\n",
       "      <td>v</td>\n",
       "      <td>0.040</td>\n",
       "      <td>f</td>\n",
       "      <td>f</td>\n",
       "      <td>0</td>\n",
       "      <td>f</td>\n",
       "      <td>g</td>\n",
       "      <td>00280</td>\n",
       "      <td>750</td>\n",
       "      <td>-</td>\n",
       "    </tr>\n",
       "    <tr>\n",
       "      <th>689</th>\n",
       "      <td>b</td>\n",
       "      <td>35.00</td>\n",
       "      <td>3.375</td>\n",
       "      <td>u</td>\n",
       "      <td>g</td>\n",
       "      <td>c</td>\n",
       "      <td>h</td>\n",
       "      <td>8.290</td>\n",
       "      <td>f</td>\n",
       "      <td>f</td>\n",
       "      <td>0</td>\n",
       "      <td>t</td>\n",
       "      <td>g</td>\n",
       "      <td>00000</td>\n",
       "      <td>0</td>\n",
       "      <td>-</td>\n",
       "    </tr>\n",
       "  </tbody>\n",
       "</table>\n",
       "</div>"
      ],
      "text/plain": [
       "    0      1       2  3  4   5   6      7  8  9   10 11 12     13   14 15\n",
       "670  b  47.17   5.835  u  g   w   v  5.500  f  f   0  f  g  00465  150  -\n",
       "671  b  25.83  12.835  u  g  cc   v  0.500  f  f   0  f  g  00000    2  -\n",
       "672  a  50.25   0.835  u  g  aa   v  0.500  f  f   0  t  g  00240  117  -\n",
       "673  ?  29.50   2.000  y  p   e   h  2.000  f  f   0  f  g  00256   17  -\n",
       "674  a  37.33   2.500  u  g   i   h  0.210  f  f   0  f  g  00260  246  -\n",
       "675  a  41.58   1.040  u  g  aa   v  0.665  f  f   0  f  g  00240  237  -\n",
       "676  a  30.58  10.665  u  g   q   h  0.085  f  t  12  t  g  00129    3  -\n",
       "677  b  19.42   7.250  u  g   m   v  0.040  f  t   1  f  g  00100    1  -\n",
       "678  a  17.92  10.210  u  g  ff  ff  0.000  f  f   0  f  g  00000   50  -\n",
       "679  a  20.08   1.250  u  g   c   v  0.000  f  f   0  f  g  00000    0  -\n",
       "680  b  19.50   0.290  u  g   k   v  0.290  f  f   0  f  g  00280  364  -\n",
       "681  b  27.83   1.000  y  p   d   h  3.000  f  f   0  f  g  00176  537  -\n",
       "682  b  17.08   3.290  u  g   i   v  0.335  f  f   0  t  g  00140    2  -\n",
       "683  b  36.42   0.750  y  p   d   v  0.585  f  f   0  f  g  00240    3  -\n",
       "684  b  40.58   3.290  u  g   m   v  3.500  f  f   0  t  s  00400    0  -\n",
       "685  b  21.08  10.085  y  p   e   h  1.250  f  f   0  f  g  00260    0  -\n",
       "686  a  22.67   0.750  u  g   c   v  2.000  f  t   2  t  g  00200  394  -\n",
       "687  a  25.25  13.500  y  p  ff  ff  2.000  f  t   1  t  g  00200    1  -\n",
       "688  b  17.92   0.205  u  g  aa   v  0.040  f  f   0  f  g  00280  750  -\n",
       "689  b  35.00   3.375  u  g   c   h  8.290  f  f   0  t  g  00000    0  -"
      ]
     },
     "execution_count": 3,
     "metadata": {},
     "output_type": "execute_result"
    }
   ],
   "source": [
    "#take a quick look at the data\n",
    "df.tail(20)"
   ]
  },
  {
   "cell_type": "code",
   "execution_count": 4,
   "id": "5da52b21",
   "metadata": {},
   "outputs": [
    {
     "name": "stdout",
     "output_type": "stream",
     "text": [
      "<class 'pandas.core.frame.DataFrame'>\n",
      "RangeIndex: 690 entries, 0 to 689\n",
      "Data columns (total 16 columns):\n",
      " #   Column  Non-Null Count  Dtype  \n",
      "---  ------  --------------  -----  \n",
      " 0   0       690 non-null    object \n",
      " 1   1       690 non-null    object \n",
      " 2   2       690 non-null    float64\n",
      " 3   3       690 non-null    object \n",
      " 4   4       690 non-null    object \n",
      " 5   5       690 non-null    object \n",
      " 6   6       690 non-null    object \n",
      " 7   7       690 non-null    float64\n",
      " 8   8       690 non-null    object \n",
      " 9   9       690 non-null    object \n",
      " 10  10      690 non-null    int64  \n",
      " 11  11      690 non-null    object \n",
      " 12  12      690 non-null    object \n",
      " 13  13      690 non-null    object \n",
      " 14  14      690 non-null    int64  \n",
      " 15  15      690 non-null    object \n",
      "dtypes: float64(2), int64(2), object(12)\n",
      "memory usage: 86.4+ KB\n"
     ]
    },
    {
     "data": {
      "text/plain": [
       "'In the data description from the original source, it is mentioned that there are missing data.\\nHowever, upon examining the dataset, it appears that there are no explicit null values.\\nThis suggests that the missing values have been replaced with a symbol or a specific value in the dataset. \\nIt is important to be aware of this substitution when working with the data to ensure accurate analysis and modeling.'"
      ]
     },
     "execution_count": 4,
     "metadata": {},
     "output_type": "execute_result"
    }
   ],
   "source": [
    "df.info()\n",
    "'''In the data description from the original source, it is mentioned that there are missing data.\n",
    "However, upon examining the dataset, it appears that there are no explicit null values.\n",
    "This suggests that the missing values have been replaced with a symbol or a specific value in the dataset. \n",
    "It is important to be aware of this substitution when working with the data to ensure accurate analysis and modeling.'''"
   ]
  },
  {
   "cell_type": "code",
   "execution_count": 5,
   "id": "67c41743",
   "metadata": {
    "scrolled": true
   },
   "outputs": [
    {
     "data": {
      "text/html": [
       "<div>\n",
       "<style scoped>\n",
       "    .dataframe tbody tr th:only-of-type {\n",
       "        vertical-align: middle;\n",
       "    }\n",
       "\n",
       "    .dataframe tbody tr th {\n",
       "        vertical-align: top;\n",
       "    }\n",
       "\n",
       "    .dataframe thead th {\n",
       "        text-align: right;\n",
       "    }\n",
       "</style>\n",
       "<table border=\"1\" class=\"dataframe\">\n",
       "  <thead>\n",
       "    <tr style=\"text-align: right;\">\n",
       "      <th></th>\n",
       "      <th>2</th>\n",
       "      <th>7</th>\n",
       "      <th>10</th>\n",
       "      <th>14</th>\n",
       "    </tr>\n",
       "  </thead>\n",
       "  <tbody>\n",
       "    <tr>\n",
       "      <th>count</th>\n",
       "      <td>690.000000</td>\n",
       "      <td>690.000000</td>\n",
       "      <td>690.00000</td>\n",
       "      <td>690.000000</td>\n",
       "    </tr>\n",
       "    <tr>\n",
       "      <th>mean</th>\n",
       "      <td>4.758725</td>\n",
       "      <td>2.223406</td>\n",
       "      <td>2.40000</td>\n",
       "      <td>1017.385507</td>\n",
       "    </tr>\n",
       "    <tr>\n",
       "      <th>std</th>\n",
       "      <td>4.978163</td>\n",
       "      <td>3.346513</td>\n",
       "      <td>4.86294</td>\n",
       "      <td>5210.102598</td>\n",
       "    </tr>\n",
       "    <tr>\n",
       "      <th>min</th>\n",
       "      <td>0.000000</td>\n",
       "      <td>0.000000</td>\n",
       "      <td>0.00000</td>\n",
       "      <td>0.000000</td>\n",
       "    </tr>\n",
       "    <tr>\n",
       "      <th>25%</th>\n",
       "      <td>1.000000</td>\n",
       "      <td>0.165000</td>\n",
       "      <td>0.00000</td>\n",
       "      <td>0.000000</td>\n",
       "    </tr>\n",
       "    <tr>\n",
       "      <th>50%</th>\n",
       "      <td>2.750000</td>\n",
       "      <td>1.000000</td>\n",
       "      <td>0.00000</td>\n",
       "      <td>5.000000</td>\n",
       "    </tr>\n",
       "    <tr>\n",
       "      <th>75%</th>\n",
       "      <td>7.207500</td>\n",
       "      <td>2.625000</td>\n",
       "      <td>3.00000</td>\n",
       "      <td>395.500000</td>\n",
       "    </tr>\n",
       "    <tr>\n",
       "      <th>max</th>\n",
       "      <td>28.000000</td>\n",
       "      <td>28.500000</td>\n",
       "      <td>67.00000</td>\n",
       "      <td>100000.000000</td>\n",
       "    </tr>\n",
       "  </tbody>\n",
       "</table>\n",
       "</div>"
      ],
      "text/plain": [
       "               2           7          10             14\n",
       "count  690.000000  690.000000  690.00000     690.000000\n",
       "mean     4.758725    2.223406    2.40000    1017.385507\n",
       "std      4.978163    3.346513    4.86294    5210.102598\n",
       "min      0.000000    0.000000    0.00000       0.000000\n",
       "25%      1.000000    0.165000    0.00000       0.000000\n",
       "50%      2.750000    1.000000    0.00000       5.000000\n",
       "75%      7.207500    2.625000    3.00000     395.500000\n",
       "max     28.000000   28.500000   67.00000  100000.000000"
      ]
     },
     "execution_count": 5,
     "metadata": {},
     "output_type": "execute_result"
    }
   ],
   "source": [
    "df.describe()"
   ]
  },
  {
   "cell_type": "code",
   "execution_count": 6,
   "id": "3ca44968",
   "metadata": {},
   "outputs": [
    {
     "data": {
      "text/plain": [
       "-    0.555072\n",
       "+    0.444928\n",
       "Name: 15, dtype: float64"
      ]
     },
     "execution_count": 6,
     "metadata": {},
     "output_type": "execute_result"
    }
   ],
   "source": [
    "#let's take a look at the propotion of the target values\n",
    "df[15].value_counts()/len(df[15])"
   ]
  },
  {
   "cell_type": "code",
   "execution_count": 7,
   "id": "049b5b17",
   "metadata": {},
   "outputs": [
    {
     "data": {
      "text/plain": [
       "<matplotlib.legend.Legend at 0x1a3f3348ee0>"
      ]
     },
     "execution_count": 7,
     "metadata": {},
     "output_type": "execute_result"
    },
    {
     "data": {
      "image/png": "[encoded data removed]",
      "text/plain": [
       "<Figure size 432x288 with 1 Axes>"
      ]
     },
     "metadata": {},
     "output_type": "display_data"
    }
   ],
   "source": [
    "#visual representation for the proportions\n",
    "values = df[15].value_counts()\n",
    "plt.pie(values ,autopct='%1.1f%%',startangle=90 , radius =1 ,textprops={'fontsize': 16},colors = ['#ff8785','#8bfd87'])\n",
    "plt.title('Accepted vs Denied Credit Card Applications',loc = 'center', fontdict ={'size':15},pad=20)\n",
    "plt.legend(labels = ['Denied', 'Accepted'], loc =1,bbox_to_anchor=(1.2,.9))"
   ]
  },
  {
   "cell_type": "markdown",
   "id": "0afb1cd8",
   "metadata": {},
   "source": [
    "## 3. Splitting the dataset into train and test sets\n",
    "To avoid biased results, I'll split the data into a train set and a test set. The test set remains untouched during preprocessing and model training to prevent any influence on the training process. This ensures an unbiased evaluation of the model's performance."
   ]
  },
  {
   "cell_type": "markdown",
   "id": "231ed1e7",
   "metadata": {},
   "source": [
    "##### stratify sampling:\n",
    "Stratified sampling is used to ensure that the proportions of classes in the test and train sets are representative of the overall population. By stratifying the sampling process based on the target variable we can create subsets that maintain similar class distributions as the original dataset, the goal is to avoid sampling bias, which can occur if the train and test sets do not accurately reflect the distribution of the target variable in the population."
   ]
  },
  {
   "cell_type": "code",
   "execution_count": 8,
   "id": "45013562",
   "metadata": {},
   "outputs": [],
   "source": [
    "df[16]= np.where(df[15].values=='+',1,0)"
   ]
  },
  {
   "cell_type": "code",
   "execution_count": 9,
   "id": "52e57fda",
   "metadata": {},
   "outputs": [],
   "source": [
    "from sklearn.model_selection import train_test_split\n",
    "train_df ,test_df = train_test_split(df , test_size =0.3,stratify = df[16], random_state =3)"
   ]
  },
  {
   "cell_type": "code",
   "execution_count": 10,
   "id": "d929d84c",
   "metadata": {},
   "outputs": [
    {
     "name": "stdout",
     "output_type": "stream",
     "text": [
      "-    0.554865\n",
      "+    0.445135\n",
      "Name: 15, dtype: float64\n",
      "-    0.555556\n",
      "+    0.444444\n",
      "Name: 15, dtype: float64\n"
     ]
    }
   ],
   "source": [
    "print (train_df[15].value_counts()/len(train_df[15]))\n",
    "print (test_df[15].value_counts()/len(test_df[15]))"
   ]
  },
  {
   "cell_type": "code",
   "execution_count": 11,
   "id": "4050c38c",
   "metadata": {},
   "outputs": [],
   "source": [
    "#getting the data back to its original shape\n",
    "train_df.drop(16 , axis = 'columns' , inplace =True)\n",
    "test_df.drop(16 , axis = 'columns', inplace = True)"
   ]
  },
  {
   "cell_type": "markdown",
   "id": "60974e36",
   "metadata": {},
   "source": [
    "## 4.Discover and Visualize the Data to Gain Insights\n",
    "Now for the fun part! \n",
    "visualization, exploring, and analyzing the data to understand it and gain insights"
   ]
  },
  {
   "cell_type": "markdown",
   "id": "4c94362e",
   "metadata": {},
   "source": [
    "### 4.1Exploratory data analysis for categorical attributes"
   ]
  },
  {
   "cell_type": "markdown",
   "id": "dd03e4b5",
   "metadata": {},
   "source": [
    "##### -Separating the categorical and numerical attributes\n",
    "To perform exploratory data analysis (EDA) on the dataset, we will begin by segregating the data into separate subsets based on their respective data types using a for loop."
   ]
  },
  {
   "cell_type": "code",
   "execution_count": 12,
   "id": "0cb76f2b",
   "metadata": {},
   "outputs": [],
   "source": [
    "#the missing values in the dataset are labeled with '?' which can be seen in the dataframe above, we'll be replacing them with null\n",
    "train_df.replace('?', np.nan , inplace = True)\n",
    "test_df.replace ('?' , np.nan, inplace = True )"
   ]
  },
  {
   "cell_type": "code",
   "execution_count": 13,
   "id": "cdd5c83f",
   "metadata": {},
   "outputs": [
    {
     "name": "stdout",
     "output_type": "stream",
     "text": [
      "<class 'pandas.core.frame.DataFrame'>\n",
      "Int64Index: 483 entries, 505 to 406\n",
      "Data columns (total 16 columns):\n",
      " #   Column  Non-Null Count  Dtype  \n",
      "---  ------  --------------  -----  \n",
      " 0   0       474 non-null    object \n",
      " 1   1       474 non-null    object \n",
      " 2   2       483 non-null    float64\n",
      " 3   3       479 non-null    object \n",
      " 4   4       479 non-null    object \n",
      " 5   5       477 non-null    object \n",
      " 6   6       477 non-null    object \n",
      " 7   7       483 non-null    float64\n",
      " 8   8       483 non-null    object \n",
      " 9   9       483 non-null    object \n",
      " 10  10      483 non-null    int64  \n",
      " 11  11      483 non-null    object \n",
      " 12  12      483 non-null    object \n",
      " 13  13      474 non-null    object \n",
      " 14  14      483 non-null    int64  \n",
      " 15  15      483 non-null    object \n",
      "dtypes: float64(2), int64(2), object(12)\n",
      "memory usage: 64.1+ KB\n"
     ]
    }
   ],
   "source": [
    "train_df.info()\n",
    "#As you can see the \"1\" column has an 'object' data type with numerical values, likely because of the presence of the symbol '?'."
   ]
  },
  {
   "cell_type": "code",
   "execution_count": 14,
   "id": "500601eb",
   "metadata": {
    "scrolled": true
   },
   "outputs": [
    {
     "name": "stdout",
     "output_type": "stream",
     "text": [
      "<class 'pandas.core.frame.DataFrame'>\n",
      "Int64Index: 483 entries, 505 to 406\n",
      "Data columns (total 16 columns):\n",
      " #   Column  Non-Null Count  Dtype  \n",
      "---  ------  --------------  -----  \n",
      " 0   0       474 non-null    object \n",
      " 1   1       474 non-null    float64\n",
      " 2   2       483 non-null    float64\n",
      " 3   3       479 non-null    object \n",
      " 4   4       479 non-null    object \n",
      " 5   5       477 non-null    object \n",
      " 6   6       477 non-null    object \n",
      " 7   7       483 non-null    float64\n",
      " 8   8       483 non-null    object \n",
      " 9   9       483 non-null    object \n",
      " 10  10      483 non-null    int64  \n",
      " 11  11      483 non-null    object \n",
      " 12  12      483 non-null    object \n",
      " 13  13      474 non-null    float64\n",
      " 14  14      483 non-null    int64  \n",
      " 15  15      483 non-null    object \n",
      "dtypes: float64(4), int64(2), object(10)\n",
      "memory usage: 64.1+ KB\n"
     ]
    }
   ],
   "source": [
    "train_df = train_df.apply(pd.to_numeric, errors = 'ignore')\n",
    "train_df.info()\n",
    "#The data types are now accurately represented, which ensures the proper functioning of the following for loop."
   ]
  },
  {
   "cell_type": "code",
   "execution_count": 15,
   "id": "c26d2843",
   "metadata": {},
   "outputs": [],
   "source": [
    "cat=[]\n",
    "num=[] \n",
    "for col in train_df.columns:\n",
    "    if train_df[col].dtype =='O':\n",
    "        cat.append(col)\n",
    "    else:\n",
    "        num.append(col)"
   ]
  },
  {
   "cell_type": "code",
   "execution_count": 16,
   "id": "be19830e",
   "metadata": {},
   "outputs": [
    {
     "name": "stdout",
     "output_type": "stream",
     "text": [
      "categorical columns list: [0, 3, 4, 5, 6, 8, 9, 11, 12, 15] \n",
      "numerical columns list: [1, 2, 7, 10, 13, 14]\n"
     ]
    }
   ],
   "source": [
    "print('categorical columns list:', cat ,'\\n''numerical columns list:', num)"
   ]
  },
  {
   "cell_type": "markdown",
   "id": "004bbf2f",
   "metadata": {},
   "source": [
    "###### -Frequency Distribution: \n",
    "I'll start by creating countplots to visualize the frequency distribution of each categorical variable. This will give us an overview of the distribution of categories and help identify the most common categories."
   ]
  },
  {
   "cell_type": "code",
   "execution_count": 17,
   "id": "81b9a829",
   "metadata": {},
   "outputs": [
    {
     "data": {
      "image/png": "[encoded data removed]",
      "text/plain": [
       "<Figure size 1080x1440 with 10 Axes>"
      ]
     },
     "metadata": {
      "needs_background": "light"
     },
     "output_type": "display_data"
    }
   ],
   "source": [
    "import seaborn as sns\n",
    "plt.figure(figsize=(15,20))\n",
    "plt.suptitle('Categorical breakdown by counts', fontsize = 30 , y=1.02)\n",
    "for i,col in enumerate(cat):\n",
    "    plt.subplot(5,2,i+1)\n",
    "    plt.title(col,  fontsize = 20)\n",
    "    sns.countplot(x=train_df[col]).set(xlabel=None)\n",
    "    plt.tight_layout()\n",
    "plt.show()"
   ]
  },
  {
   "cell_type": "markdown",
   "id": "abe3e5bf",
   "metadata": {},
   "source": [
    "###### -Target Variable Analysis:\n",
    "A stacked plot can be used to visualize the distribution of approvals and rejections across different categories or variables, providing insights into the relationship between the target variable and other categorical variables."
   ]
  },
  {
   "cell_type": "code",
   "execution_count": 18,
   "id": "6a415ab6",
   "metadata": {},
   "outputs": [
    {
     "data": {
      "text/plain": [
       "<Figure size 1080x1440 with 0 Axes>"
      ]
     },
     "metadata": {},
     "output_type": "display_data"
    },
    {
     "data": {
      "image/png": "[encoded data removed]",
      "text/plain": [
       "<Figure size 432x288 with 1 Axes>"
      ]
     },
     "metadata": {
      "needs_background": "light"
     },
     "output_type": "display_data"
    },
    {
     "data": {
      "image/png": "[encoded data removed]",
      "text/plain": [
       "<Figure size 432x288 with 1 Axes>"
      ]
     },
     "metadata": {
      "needs_background": "light"
     },
     "output_type": "display_data"
    },
    {
     "data": {
      "image/png": "[encoded data removed]",
      "text/plain": [
       "<Figure size 432x288 with 1 Axes>"
      ]
     },
     "metadata": {
      "needs_background": "light"
     },
     "output_type": "display_data"
    },
    {
     "data": {
      "image/png": "[encoded data removed]",
      "text/plain": [
       "<Figure size 432x288 with 1 Axes>"
      ]
     },
     "metadata": {
      "needs_background": "light"
     },
     "output_type": "display_data"
    },
    {
     "data": {
      "image/png": "[encoded data removed]",
      "text/plain": [
       "<Figure size 432x288 with 1 Axes>"
      ]
     },
     "metadata": {
      "needs_background": "light"
     },
     "output_type": "display_data"
    },
    {
     "data": {
      "image/png": "[encoded data removed]",
      "text/plain": [
       "<Figure size 432x288 with 1 Axes>"
      ]
     },
     "metadata": {
      "needs_background": "light"
     },
     "output_type": "display_data"
    },
    {
     "data": {
      "image/png": "[encoded data removed]",
      "text/plain": [
       "<Figure size 432x288 with 1 Axes>"
      ]
     },
     "metadata": {
      "needs_background": "light"
     },
     "output_type": "display_data"
    },
    {
     "data": {
      "image/png": "[encoded data removed]",
      "text/plain": [
       "<Figure size 432x288 with 1 Axes>"
      ]
     },
     "metadata": {
      "needs_background": "light"
     },
     "output_type": "display_data"
    },
    {
     "data": {
      "image/png": "[encoded data removed]",
      "text/plain": [
       "<Figure size 432x288 with 1 Axes>"
      ]
     },
     "metadata": {
      "needs_background": "light"
     },
     "output_type": "display_data"
    },
    {
     "data": {
      "image/png": "[encoded data removed]",
      "text/plain": [
       "<Figure size 432x288 with 1 Axes>"
      ]
     },
     "metadata": {
      "needs_background": "light"
     },
     "output_type": "display_data"
    }
   ],
   "source": [
    "plt.figure(figsize=(15,20))\n",
    "plt.suptitle('Target Variable Analysis', fontsize = 30 , y=1.02)\n",
    "label_mapping ={'+':'Acceppted', \"-\": \"Denide\"}\n",
    "updated_labels = list(map(label_mapping.get, train_df[15].unique()))\n",
    "colors = ['lightgreen', 'lightcoral']\n",
    "for i,col in enumerate(cat):\n",
    "    ax = train_df.groupby([col,15]).size().unstack().plot.bar(stacked=True, color=colors)\n",
    "    ax.set_title(col)\n",
    "    ax.legend(updated_labels, loc='upper left')\n",
    "    ax.set_xlabel(None)\n",
    "    ax.set_xticklabels(ax.get_xticklabels(), rotation=0)\n",
    "plt.show()\n"
   ]
  },
  {
   "cell_type": "markdown",
   "id": "888d90ba",
   "metadata": {},
   "source": [
    "Notice that the \"8\" attribute in the \"t\" category has a much higher proportion of \"Accepted\" compared to \"Denied,\" while the \"f\" category shows the opposite pattern, which suggests that the \"8\" attribute may have a strong association with the Accepted or denied stats. However, it's important to further investigate and analyze the data to confirm the relationship and consider other factors that might contribute to the approval or rejection decision."
   ]
  },
  {
   "cell_type": "markdown",
   "id": "1ae8e053",
   "metadata": {},
   "source": [
    "##### -Analyzing the correlation between categorical attributes and the target variable:\n",
    "The correlation matrix helps us identify the linear relationship with the target variable."
   ]
  },
  {
   "cell_type": "code",
   "execution_count": 19,
   "id": "b6eb6223",
   "metadata": {},
   "outputs": [
    {
     "data": {
      "text/plain": [
       "15_-    1.000000\n",
       "8_f     0.729141\n",
       "9_f     0.442311\n",
       "6_ff    0.209737\n",
       "5_ff    0.206859\n",
       "3_y     0.180085\n",
       "4_p     0.180085\n",
       "5_i     0.134485\n",
       "5_k     0.110455\n",
       "12_s    0.107001\n",
       "5_d     0.088818\n",
       "6_v     0.034049\n",
       "11_f    0.026735\n",
       "0_a     0.024940\n",
       "5_aa    0.014160\n",
       "6_j     0.009288\n",
       "6_dd    0.009288\n",
       "5_j     0.004042\n",
       "6_o    -0.007119\n",
       "5_c    -0.011114\n",
       "6_bb   -0.021626\n",
       "11_t   -0.026735\n",
       "0_b    -0.033479\n",
       "5_m    -0.035195\n",
       "5_w    -0.036672\n",
       "5_e    -0.043712\n",
       "12_p   -0.049994\n",
       "5_r    -0.050854\n",
       "6_z    -0.056057\n",
       "4_gg   -0.071993\n",
       "3_l    -0.071993\n",
       "12_g   -0.080872\n",
       "5_q    -0.112490\n",
       "4_g    -0.154408\n",
       "3_u    -0.154408\n",
       "5_x    -0.155547\n",
       "6_h    -0.164234\n",
       "5_cc   -0.183754\n",
       "9_t    -0.442311\n",
       "8_t    -0.729141\n",
       "15_+   -1.000000\n",
       "Name: 15_-, dtype: float64"
      ]
     },
     "execution_count": 19,
     "metadata": {},
     "output_type": "execute_result"
    }
   ],
   "source": [
    "dummies = pd.get_dummies(train_df[cat])\n",
    "corr_matrix = dummies.corr()\n",
    "corr_matrix['15_-'].sort_values(ascending = False)"
   ]
  },
  {
   "cell_type": "markdown",
   "id": "6f290131",
   "metadata": {},
   "source": [
    "It seems that based on this analysis that the \"8\" attribute has the strongest correlation with the target variable, followed by the \"9\" attribute which suggests that the categories within these attributes might have a significant impact on determining the target variable's values. It could indicate that certain categories in the \"8\" and \"9\" attributes are more likely to be associated with the target variable's positive or negative outcomes."
   ]
  },
  {
   "cell_type": "markdown",
   "id": "3643a496",
   "metadata": {},
   "source": [
    "### 4.2 -Exploratory data analysis for numerical attributes"
   ]
  },
  {
   "cell_type": "markdown",
   "id": "e9bd52df",
   "metadata": {},
   "source": [
    "##### -summarizing numerical attributes:\n",
    "Visualizing the distributions of numerical attributes using histograms and box plots is a great way to gain insights and analyze the data further."
   ]
  },
  {
   "cell_type": "code",
   "execution_count": 20,
   "id": "b7452f2c",
   "metadata": {},
   "outputs": [
    {
     "data": {
      "image/png": "[encoded data removed]",
      "text/plain": [
       "<Figure size 432x288 with 2 Axes>"
      ]
     },
     "metadata": {
      "needs_background": "light"
     },
     "output_type": "display_data"
    },
    {
     "data": {
      "image/png": "[encoded data removed]",
      "text/plain": [
       "<Figure size 432x288 with 2 Axes>"
      ]
     },
     "metadata": {
      "needs_background": "light"
     },
     "output_type": "display_data"
    },
    {
     "data": {
      "image/png": "[encoded data removed]",
      "text/plain": [
       "<Figure size 432x288 with 2 Axes>"
      ]
     },
     "metadata": {
      "needs_background": "light"
     },
     "output_type": "display_data"
    },
    {
     "data": {
      "image/png": "[encoded data removed]",
      "text/plain": [
       "<Figure size 432x288 with 2 Axes>"
      ]
     },
     "metadata": {
      "needs_background": "light"
     },
     "output_type": "display_data"
    },
    {
     "data": {
      "image/png": "[encoded data removed]",
      "text/plain": [
       "<Figure size 432x288 with 2 Axes>"
      ]
     },
     "metadata": {
      "needs_background": "light"
     },
     "output_type": "display_data"
    },
    {
     "data": {
      "image/png": "[encoded data removed]",
      "text/plain": [
       "<Figure size 432x288 with 2 Axes>"
      ]
     },
     "metadata": {
      "needs_background": "light"
     },
     "output_type": "display_data"
    }
   ],
   "source": [
    "for att in num:\n",
    "    plt.subplot(2,1,1)\n",
    "    train_df[att].plot.hist()\n",
    "    plt.title(att,  fontsize = 20)\n",
    "    plt.subplot(2,1,2)\n",
    "    train_df[att].plot.box(vert=False)\n",
    "    plt.yticks([1], [''])\n",
    "    plt.tight_layout()\n",
    "    plt.show()"
   ]
  },
  {
   "cell_type": "markdown",
   "id": "26902294",
   "metadata": {},
   "source": [
    "Based on the analysis, we can see that several distributions in the dataset are highly skewed to the right. This skewness poses a potential risk of introducing biases when using certain algorithms. Furthermore, the attributes exhibit variations in scales, and outliers are noticeably present. To ensure optimal performance and reliable results, it is crucial to address these issues by employing appropriate data transformations."
   ]
  },
  {
   "cell_type": "markdown",
   "id": "842c82f3",
   "metadata": {},
   "source": [
    "##### -Analyzing the correlation between numerical attributes and the target variable:\n",
    "we will use the correlation matrix to examine the linear relationship between numerical attributes and the target values"
   ]
  },
  {
   "cell_type": "code",
   "execution_count": 21,
   "id": "e2ba3de6",
   "metadata": {
    "scrolled": true
   },
   "outputs": [
    {
     "data": {
      "text/plain": [
       "+     1.000000\n",
       "10    0.402741\n",
       "7     0.344892\n",
       "2     0.210324\n",
       "14    0.165777\n",
       "1     0.137319\n",
       "13   -0.077317\n",
       "Name: +, dtype: float64"
      ]
     },
     "execution_count": 21,
     "metadata": {},
     "output_type": "execute_result"
    }
   ],
   "source": [
    "#checking the correlations \n",
    "target_dummies = pd.get_dummies(train_df[15])\n",
    "train_df_num = pd.concat([train_df[num],target_dummies['+']],axis =1)\n",
    "corr_matrix_num = train_df_num.corr()\n",
    "corr_matrix_num['+'].sort_values(ascending = False)"
   ]
  },
  {
   "cell_type": "markdown",
   "id": "56b0cfc2",
   "metadata": {},
   "source": [
    "based on the correlation values it appears that attribute \"10\" has the strongest positive correlation with the positive class of the target value, This means that as the values of attribute \"10\" increase, the likelihood of the positive class also tends to increase. "
   ]
  },
  {
   "cell_type": "markdown",
   "id": "e43cd4c1",
   "metadata": {},
   "source": [
    "##### -visulazing the correlations between numerical attributes:\n",
    "we will check for correlation between attributes by using Pandas scatter_matrix function, which will plot every numerical attribute against every other numerical attribute."
   ]
  },
  {
   "cell_type": "code",
   "execution_count": 22,
   "id": "0715422b",
   "metadata": {},
   "outputs": [
    {
     "data": {
      "image/png": "[encoded data removed]",
      "text/plain": [
       "<Figure size 864x576 with 49 Axes>"
      ]
     },
     "metadata": {
      "needs_background": "light"
     },
     "output_type": "display_data"
    }
   ],
   "source": [
    "from pandas.plotting import scatter_matrix\n",
    "scatter_matrix(train_df_num, figsize=(12, 8))\n",
    "plt.tight_layout()\n",
    "plt.show()"
   ]
  },
  {
   "cell_type": "markdown",
   "id": "c328bc7d",
   "metadata": {},
   "source": [
    "## 5- Handling missing values"
   ]
  },
  {
   "cell_type": "markdown",
   "id": "d5d413a8",
   "metadata": {},
   "source": [
    "### Missing values for categorical attributes"
   ]
  },
  {
   "cell_type": "code",
   "execution_count": 23,
   "id": "a8e5e8a5",
   "metadata": {},
   "outputs": [],
   "source": [
    "#finding the columns with missing values\n",
    "miss_cat =[]\n",
    "for i in cat:\n",
    "    if train_df[i].isnull().sum() !=0:\n",
    "        miss_cat.append(i)"
   ]
  },
  {
   "cell_type": "code",
   "execution_count": 24,
   "id": "bba7e551",
   "metadata": {
    "scrolled": false
   },
   "outputs": [
    {
     "data": {
      "text/plain": [
       "<Figure size 1080x1440 with 0 Axes>"
      ]
     },
     "metadata": {},
     "output_type": "display_data"
    },
    {
     "data": {
      "image/png": "[encoded data removed]",
      "text/plain": [
       "<Figure size 432x288 with 1 Axes>"
      ]
     },
     "metadata": {
      "needs_background": "light"
     },
     "output_type": "display_data"
    },
    {
     "data": {
      "image/png": "[encoded data removed]",
      "text/plain": [
       "<Figure size 432x288 with 1 Axes>"
      ]
     },
     "metadata": {
      "needs_background": "light"
     },
     "output_type": "display_data"
    },
    {
     "data": {
      "image/png": "[encoded data removed]",
      "text/plain": [
       "<Figure size 432x288 with 1 Axes>"
      ]
     },
     "metadata": {
      "needs_background": "light"
     },
     "output_type": "display_data"
    },
    {
     "data": {
      "image/png": "[encoded data removed]",
      "text/plain": [
       "<Figure size 432x288 with 1 Axes>"
      ]
     },
     "metadata": {
      "needs_background": "light"
     },
     "output_type": "display_data"
    },
    {
     "data": {
      "image/png": "[encoded data removed]",
      "text/plain": [
       "<Figure size 432x288 with 1 Axes>"
      ]
     },
     "metadata": {
      "needs_background": "light"
     },
     "output_type": "display_data"
    }
   ],
   "source": [
    "plt.figure(figsize=(15,20))\n",
    "plt.suptitle('Target Variable Analysis', fontsize = 30 , y=1.02)\n",
    "label_mapping ={'+':'Acceppted', \"-\": \"Denide\"}\n",
    "updated_labels = list(map(label_mapping.get, train_df[15].unique()))\n",
    "colors = ['lightgreen', 'lightcoral']\n",
    "for i,col in enumerate(miss_cat):\n",
    "    ax = train_df.groupby([col,15]).size().unstack().plot.bar(stacked=True, color=colors)\n",
    "    ax.set_title(col)\n",
    "    ax.legend(updated_labels, loc='upper left')\n",
    "    ax.set_xlabel(None)\n",
    "    ax.set_xticklabels(ax.get_xticklabels(), rotation=0)\n",
    "plt.show()"
   ]
  },
  {
   "cell_type": "markdown",
   "id": "f31c7aab",
   "metadata": {},
   "source": [
    "you can see that in all categorical columns with missing values the leading value (most frequent value) represents a roughly 50-50 distribution, it suggests that the missing values in those columns are not strongly associated with a specific category or classification. In such a scenario, filling in the missing values with the most popular value (mode) can be a reasonable approach."
   ]
  },
  {
   "cell_type": "code",
   "execution_count": 25,
   "id": "66bb6a06",
   "metadata": {},
   "outputs": [],
   "source": [
    "#don't forget to fill in the missing values in the test set\n",
    "for col in miss_cat:\n",
    "    train_df[col].fillna(train_df[col].mode()[0],inplace=True)\n",
    "    test_df[col].fillna(train_df[col].mode()[0],inplace=True)"
   ]
  },
  {
   "cell_type": "markdown",
   "id": "729cbb84",
   "metadata": {},
   "source": [
    "### 5.1 Missing values for numerical attributes"
   ]
  },
  {
   "cell_type": "code",
   "execution_count": 26,
   "id": "e0888fbb",
   "metadata": {},
   "outputs": [],
   "source": [
    "#finding the columns with missing values\n",
    "miss_num =[]\n",
    "for i in num:\n",
    "    if train_df[i].isnull().sum() !=0:\n",
    "        miss_num.append(i)"
   ]
  },
  {
   "cell_type": "code",
   "execution_count": 27,
   "id": "82f2ecbb",
   "metadata": {},
   "outputs": [
    {
     "data": {
      "text/plain": [
       "[1, 13]"
      ]
     },
     "execution_count": 27,
     "metadata": {},
     "output_type": "execute_result"
    }
   ],
   "source": [
    "miss_num"
   ]
  },
  {
   "cell_type": "markdown",
   "id": "635db313",
   "metadata": {},
   "source": [
    "since these numerical distributions are skewed and contains outliers we'll impute with the median because it will provide a more robust measure of central tendency."
   ]
  },
  {
   "cell_type": "code",
   "execution_count": 28,
   "id": "aa08ae59",
   "metadata": {},
   "outputs": [],
   "source": [
    "for col in miss_num:\n",
    "    train_df[col].fillna(train_df[col].median() , inplace =True)\n",
    "    test_df[col].fillna(train_df[col].median(), inplace =True)"
   ]
  },
  {
   "cell_type": "code",
   "execution_count": 29,
   "id": "28377306",
   "metadata": {},
   "outputs": [
    {
     "name": "stdout",
     "output_type": "stream",
     "text": [
      "0     0\n",
      "1     0\n",
      "2     0\n",
      "3     0\n",
      "4     0\n",
      "5     0\n",
      "6     0\n",
      "7     0\n",
      "8     0\n",
      "9     0\n",
      "10    0\n",
      "11    0\n",
      "12    0\n",
      "13    0\n",
      "14    0\n",
      "15    0\n",
      "dtype: int64\n",
      "0     0\n",
      "1     0\n",
      "2     0\n",
      "3     0\n",
      "4     0\n",
      "5     0\n",
      "6     0\n",
      "7     0\n",
      "8     0\n",
      "9     0\n",
      "10    0\n",
      "11    0\n",
      "12    0\n",
      "13    0\n",
      "14    0\n",
      "15    0\n",
      "dtype: int64\n"
     ]
    }
   ],
   "source": [
    "# Count the number of NaNs in the datasets and print the counts to verify\n",
    "print(train_df.isnull().sum())\n",
    "print(test_df.isnull().sum())"
   ]
  },
  {
   "cell_type": "markdown",
   "id": "a3f5bd79",
   "metadata": {},
   "source": [
    "## 6.preprosecing the data\n",
    "Preprocessing the data is an important step to prepare it for training. It involves transforming and cleaning the data to ensure it is in a suitable format for the machine learning algorithms."
   ]
  },
  {
   "cell_type": "markdown",
   "id": "64fc80dc",
   "metadata": {},
   "source": [
    "### 6.1 Feature selection:\n",
    "Feature selection is an important preprocessing step in which we analyze the importance of different features and drop the ones that have little to no effect on the learning process. While using all the features may seem appealing, it can result in slower learning and potential overfitting, we also need to remove highly correlated features because they can potentially introduce multicollinearity issues in the analysis.\n",
    "\n",
    "\n",
    "By selecting the most relevant features, we can improve the efficiency of the learning process and potentially enhance the model's performance. This involves identifying the features that have the strongest correlation or influence on the target variable. By focusing on these important features, we can reduce dimensionality and improve the model's interpretability."
   ]
  },
  {
   "cell_type": "code",
   "execution_count": 30,
   "id": "78621be3",
   "metadata": {},
   "outputs": [],
   "source": [
    "# first dummy encoding categorical features\n",
    "train_df = pd.get_dummies(train_df)\n",
    "test_df = pd.get_dummies(test_df)\n",
    "test_df = test_df.reindex(columns=train_df.columns, fill_value=0)"
   ]
  },
  {
   "cell_type": "code",
   "execution_count": 31,
   "id": "f1d632c5",
   "metadata": {},
   "outputs": [
    {
     "data": {
      "text/html": [
       "<div>\n",
       "<style scoped>\n",
       "    .dataframe tbody tr th:only-of-type {\n",
       "        vertical-align: middle;\n",
       "    }\n",
       "\n",
       "    .dataframe tbody tr th {\n",
       "        vertical-align: top;\n",
       "    }\n",
       "\n",
       "    .dataframe thead th {\n",
       "        text-align: right;\n",
       "    }\n",
       "</style>\n",
       "<table border=\"1\" class=\"dataframe\">\n",
       "  <thead>\n",
       "    <tr style=\"text-align: right;\">\n",
       "      <th></th>\n",
       "      <th>1</th>\n",
       "      <th>2</th>\n",
       "      <th>7</th>\n",
       "      <th>10</th>\n",
       "      <th>13</th>\n",
       "      <th>14</th>\n",
       "      <th>0_a</th>\n",
       "      <th>0_b</th>\n",
       "      <th>3_l</th>\n",
       "      <th>3_u</th>\n",
       "      <th>...</th>\n",
       "      <th>8_t</th>\n",
       "      <th>9_f</th>\n",
       "      <th>9_t</th>\n",
       "      <th>11_f</th>\n",
       "      <th>11_t</th>\n",
       "      <th>12_g</th>\n",
       "      <th>12_p</th>\n",
       "      <th>12_s</th>\n",
       "      <th>15_+</th>\n",
       "      <th>15_-</th>\n",
       "    </tr>\n",
       "  </thead>\n",
       "  <tbody>\n",
       "    <tr>\n",
       "      <th>505</th>\n",
       "      <td>31.33</td>\n",
       "      <td>19.500</td>\n",
       "      <td>7.000</td>\n",
       "      <td>16</td>\n",
       "      <td>0.0</td>\n",
       "      <td>5000</td>\n",
       "      <td>0</td>\n",
       "      <td>1</td>\n",
       "      <td>0</td>\n",
       "      <td>1</td>\n",
       "      <td>...</td>\n",
       "      <td>1</td>\n",
       "      <td>0</td>\n",
       "      <td>1</td>\n",
       "      <td>1</td>\n",
       "      <td>0</td>\n",
       "      <td>1</td>\n",
       "      <td>0</td>\n",
       "      <td>0</td>\n",
       "      <td>1</td>\n",
       "      <td>0</td>\n",
       "    </tr>\n",
       "    <tr>\n",
       "      <th>253</th>\n",
       "      <td>23.17</td>\n",
       "      <td>11.125</td>\n",
       "      <td>0.460</td>\n",
       "      <td>1</td>\n",
       "      <td>100.0</td>\n",
       "      <td>0</td>\n",
       "      <td>0</td>\n",
       "      <td>1</td>\n",
       "      <td>0</td>\n",
       "      <td>1</td>\n",
       "      <td>...</td>\n",
       "      <td>1</td>\n",
       "      <td>0</td>\n",
       "      <td>1</td>\n",
       "      <td>1</td>\n",
       "      <td>0</td>\n",
       "      <td>1</td>\n",
       "      <td>0</td>\n",
       "      <td>0</td>\n",
       "      <td>1</td>\n",
       "      <td>0</td>\n",
       "    </tr>\n",
       "    <tr>\n",
       "      <th>521</th>\n",
       "      <td>30.00</td>\n",
       "      <td>5.290</td>\n",
       "      <td>2.250</td>\n",
       "      <td>5</td>\n",
       "      <td>99.0</td>\n",
       "      <td>500</td>\n",
       "      <td>1</td>\n",
       "      <td>0</td>\n",
       "      <td>0</td>\n",
       "      <td>1</td>\n",
       "      <td>...</td>\n",
       "      <td>1</td>\n",
       "      <td>0</td>\n",
       "      <td>1</td>\n",
       "      <td>0</td>\n",
       "      <td>1</td>\n",
       "      <td>1</td>\n",
       "      <td>0</td>\n",
       "      <td>0</td>\n",
       "      <td>1</td>\n",
       "      <td>0</td>\n",
       "    </tr>\n",
       "    <tr>\n",
       "      <th>242</th>\n",
       "      <td>28.33</td>\n",
       "      <td>5.000</td>\n",
       "      <td>11.000</td>\n",
       "      <td>0</td>\n",
       "      <td>70.0</td>\n",
       "      <td>0</td>\n",
       "      <td>0</td>\n",
       "      <td>1</td>\n",
       "      <td>0</td>\n",
       "      <td>1</td>\n",
       "      <td>...</td>\n",
       "      <td>1</td>\n",
       "      <td>1</td>\n",
       "      <td>0</td>\n",
       "      <td>0</td>\n",
       "      <td>1</td>\n",
       "      <td>1</td>\n",
       "      <td>0</td>\n",
       "      <td>0</td>\n",
       "      <td>1</td>\n",
       "      <td>0</td>\n",
       "    </tr>\n",
       "    <tr>\n",
       "      <th>13</th>\n",
       "      <td>48.08</td>\n",
       "      <td>6.040</td>\n",
       "      <td>0.040</td>\n",
       "      <td>0</td>\n",
       "      <td>0.0</td>\n",
       "      <td>2690</td>\n",
       "      <td>0</td>\n",
       "      <td>1</td>\n",
       "      <td>0</td>\n",
       "      <td>1</td>\n",
       "      <td>...</td>\n",
       "      <td>0</td>\n",
       "      <td>1</td>\n",
       "      <td>0</td>\n",
       "      <td>1</td>\n",
       "      <td>0</td>\n",
       "      <td>1</td>\n",
       "      <td>0</td>\n",
       "      <td>0</td>\n",
       "      <td>1</td>\n",
       "      <td>0</td>\n",
       "    </tr>\n",
       "    <tr>\n",
       "      <th>...</th>\n",
       "      <td>...</td>\n",
       "      <td>...</td>\n",
       "      <td>...</td>\n",
       "      <td>...</td>\n",
       "      <td>...</td>\n",
       "      <td>...</td>\n",
       "      <td>...</td>\n",
       "      <td>...</td>\n",
       "      <td>...</td>\n",
       "      <td>...</td>\n",
       "      <td>...</td>\n",
       "      <td>...</td>\n",
       "      <td>...</td>\n",
       "      <td>...</td>\n",
       "      <td>...</td>\n",
       "      <td>...</td>\n",
       "      <td>...</td>\n",
       "      <td>...</td>\n",
       "      <td>...</td>\n",
       "      <td>...</td>\n",
       "      <td>...</td>\n",
       "    </tr>\n",
       "    <tr>\n",
       "      <th>319</th>\n",
       "      <td>36.75</td>\n",
       "      <td>0.125</td>\n",
       "      <td>1.500</td>\n",
       "      <td>0</td>\n",
       "      <td>232.0</td>\n",
       "      <td>113</td>\n",
       "      <td>0</td>\n",
       "      <td>1</td>\n",
       "      <td>0</td>\n",
       "      <td>0</td>\n",
       "      <td>...</td>\n",
       "      <td>0</td>\n",
       "      <td>1</td>\n",
       "      <td>0</td>\n",
       "      <td>0</td>\n",
       "      <td>1</td>\n",
       "      <td>1</td>\n",
       "      <td>0</td>\n",
       "      <td>0</td>\n",
       "      <td>1</td>\n",
       "      <td>0</td>\n",
       "    </tr>\n",
       "    <tr>\n",
       "      <th>363</th>\n",
       "      <td>16.92</td>\n",
       "      <td>0.335</td>\n",
       "      <td>0.290</td>\n",
       "      <td>0</td>\n",
       "      <td>200.0</td>\n",
       "      <td>0</td>\n",
       "      <td>0</td>\n",
       "      <td>1</td>\n",
       "      <td>0</td>\n",
       "      <td>0</td>\n",
       "      <td>...</td>\n",
       "      <td>0</td>\n",
       "      <td>1</td>\n",
       "      <td>0</td>\n",
       "      <td>1</td>\n",
       "      <td>0</td>\n",
       "      <td>0</td>\n",
       "      <td>0</td>\n",
       "      <td>1</td>\n",
       "      <td>0</td>\n",
       "      <td>1</td>\n",
       "    </tr>\n",
       "    <tr>\n",
       "      <th>445</th>\n",
       "      <td>29.21</td>\n",
       "      <td>11.250</td>\n",
       "      <td>0.000</td>\n",
       "      <td>0</td>\n",
       "      <td>160.0</td>\n",
       "      <td>5200</td>\n",
       "      <td>1</td>\n",
       "      <td>0</td>\n",
       "      <td>0</td>\n",
       "      <td>1</td>\n",
       "      <td>...</td>\n",
       "      <td>0</td>\n",
       "      <td>1</td>\n",
       "      <td>0</td>\n",
       "      <td>1</td>\n",
       "      <td>0</td>\n",
       "      <td>1</td>\n",
       "      <td>0</td>\n",
       "      <td>0</td>\n",
       "      <td>0</td>\n",
       "      <td>1</td>\n",
       "    </tr>\n",
       "    <tr>\n",
       "      <th>341</th>\n",
       "      <td>42.75</td>\n",
       "      <td>4.085</td>\n",
       "      <td>0.040</td>\n",
       "      <td>0</td>\n",
       "      <td>108.0</td>\n",
       "      <td>100</td>\n",
       "      <td>0</td>\n",
       "      <td>1</td>\n",
       "      <td>0</td>\n",
       "      <td>1</td>\n",
       "      <td>...</td>\n",
       "      <td>0</td>\n",
       "      <td>1</td>\n",
       "      <td>0</td>\n",
       "      <td>1</td>\n",
       "      <td>0</td>\n",
       "      <td>1</td>\n",
       "      <td>0</td>\n",
       "      <td>0</td>\n",
       "      <td>0</td>\n",
       "      <td>1</td>\n",
       "    </tr>\n",
       "    <tr>\n",
       "      <th>406</th>\n",
       "      <td>40.33</td>\n",
       "      <td>8.125</td>\n",
       "      <td>0.165</td>\n",
       "      <td>2</td>\n",
       "      <td>160.0</td>\n",
       "      <td>18</td>\n",
       "      <td>1</td>\n",
       "      <td>0</td>\n",
       "      <td>0</td>\n",
       "      <td>0</td>\n",
       "      <td>...</td>\n",
       "      <td>0</td>\n",
       "      <td>0</td>\n",
       "      <td>1</td>\n",
       "      <td>1</td>\n",
       "      <td>0</td>\n",
       "      <td>1</td>\n",
       "      <td>0</td>\n",
       "      <td>0</td>\n",
       "      <td>0</td>\n",
       "      <td>1</td>\n",
       "    </tr>\n",
       "  </tbody>\n",
       "</table>\n",
       "<p>483 rows × 47 columns</p>\n",
       "</div>"
      ],
      "text/plain": [
       "         1       2       7  10     13    14  0_a  0_b  3_l  3_u  ...  8_t  \\\n",
       "505  31.33  19.500   7.000  16    0.0  5000    0    1    0    1  ...    1   \n",
       "253  23.17  11.125   0.460   1  100.0     0    0    1    0    1  ...    1   \n",
       "521  30.00   5.290   2.250   5   99.0   500    1    0    0    1  ...    1   \n",
       "242  28.33   5.000  11.000   0   70.0     0    0    1    0    1  ...    1   \n",
       "13   48.08   6.040   0.040   0    0.0  2690    0    1    0    1  ...    0   \n",
       "..     ...     ...     ...  ..    ...   ...  ...  ...  ...  ...  ...  ...   \n",
       "319  36.75   0.125   1.500   0  232.0   113    0    1    0    0  ...    0   \n",
       "363  16.92   0.335   0.290   0  200.0     0    0    1    0    0  ...    0   \n",
       "445  29.21  11.250   0.000   0  160.0  5200    1    0    0    1  ...    0   \n",
       "341  42.75   4.085   0.040   0  108.0   100    0    1    0    1  ...    0   \n",
       "406  40.33   8.125   0.165   2  160.0    18    1    0    0    0  ...    0   \n",
       "\n",
       "     9_f  9_t  11_f  11_t  12_g  12_p  12_s  15_+  15_-  \n",
       "505    0    1     1     0     1     0     0     1     0  \n",
       "253    0    1     1     0     1     0     0     1     0  \n",
       "521    0    1     0     1     1     0     0     1     0  \n",
       "242    1    0     0     1     1     0     0     1     0  \n",
       "13     1    0     1     0     1     0     0     1     0  \n",
       "..   ...  ...   ...   ...   ...   ...   ...   ...   ...  \n",
       "319    1    0     0     1     1     0     0     1     0  \n",
       "363    1    0     1     0     0     0     1     0     1  \n",
       "445    1    0     1     0     1     0     0     0     1  \n",
       "341    1    0     1     0     1     0     0     0     1  \n",
       "406    0    1     1     0     1     0     0     0     1  \n",
       "\n",
       "[483 rows x 47 columns]"
      ]
     },
     "execution_count": 31,
     "metadata": {},
     "output_type": "execute_result"
    }
   ],
   "source": [
    "train_df"
   ]
  },
  {
   "cell_type": "code",
   "execution_count": 32,
   "id": "3fccd070",
   "metadata": {
    "scrolled": true
   },
   "outputs": [
    {
     "data": {
      "text/html": [
       "<div>\n",
       "<style scoped>\n",
       "    .dataframe tbody tr th:only-of-type {\n",
       "        vertical-align: middle;\n",
       "    }\n",
       "\n",
       "    .dataframe tbody tr th {\n",
       "        vertical-align: top;\n",
       "    }\n",
       "\n",
       "    .dataframe thead th {\n",
       "        text-align: right;\n",
       "    }\n",
       "</style>\n",
       "<table border=\"1\" class=\"dataframe\">\n",
       "  <thead>\n",
       "    <tr style=\"text-align: right;\">\n",
       "      <th></th>\n",
       "      <th>1</th>\n",
       "      <th>2</th>\n",
       "      <th>7</th>\n",
       "      <th>10</th>\n",
       "      <th>13</th>\n",
       "      <th>14</th>\n",
       "      <th>0_a</th>\n",
       "      <th>0_b</th>\n",
       "      <th>3_l</th>\n",
       "      <th>3_u</th>\n",
       "      <th>...</th>\n",
       "      <th>8_t</th>\n",
       "      <th>9_f</th>\n",
       "      <th>9_t</th>\n",
       "      <th>11_f</th>\n",
       "      <th>11_t</th>\n",
       "      <th>12_g</th>\n",
       "      <th>12_p</th>\n",
       "      <th>12_s</th>\n",
       "      <th>15_+</th>\n",
       "      <th>15_-</th>\n",
       "    </tr>\n",
       "  </thead>\n",
       "  <tbody>\n",
       "    <tr>\n",
       "      <th>568</th>\n",
       "      <td>0</td>\n",
       "      <td>0.375</td>\n",
       "      <td>0.375</td>\n",
       "      <td>8</td>\n",
       "      <td>0</td>\n",
       "      <td>162</td>\n",
       "      <td>0</td>\n",
       "      <td>1</td>\n",
       "      <td>0</td>\n",
       "      <td>0</td>\n",
       "      <td>...</td>\n",
       "      <td>1</td>\n",
       "      <td>0</td>\n",
       "      <td>1</td>\n",
       "      <td>0</td>\n",
       "      <td>1</td>\n",
       "      <td>1</td>\n",
       "      <td>0</td>\n",
       "      <td>0</td>\n",
       "      <td>1</td>\n",
       "      <td>0</td>\n",
       "    </tr>\n",
       "    <tr>\n",
       "      <th>47</th>\n",
       "      <td>0</td>\n",
       "      <td>4.460</td>\n",
       "      <td>6.040</td>\n",
       "      <td>3</td>\n",
       "      <td>0</td>\n",
       "      <td>300</td>\n",
       "      <td>0</td>\n",
       "      <td>1</td>\n",
       "      <td>0</td>\n",
       "      <td>1</td>\n",
       "      <td>...</td>\n",
       "      <td>1</td>\n",
       "      <td>0</td>\n",
       "      <td>1</td>\n",
       "      <td>1</td>\n",
       "      <td>0</td>\n",
       "      <td>1</td>\n",
       "      <td>0</td>\n",
       "      <td>0</td>\n",
       "      <td>1</td>\n",
       "      <td>0</td>\n",
       "    </tr>\n",
       "    <tr>\n",
       "      <th>269</th>\n",
       "      <td>0</td>\n",
       "      <td>0.165</td>\n",
       "      <td>0.210</td>\n",
       "      <td>0</td>\n",
       "      <td>0</td>\n",
       "      <td>40</td>\n",
       "      <td>0</td>\n",
       "      <td>1</td>\n",
       "      <td>0</td>\n",
       "      <td>1</td>\n",
       "      <td>...</td>\n",
       "      <td>0</td>\n",
       "      <td>1</td>\n",
       "      <td>0</td>\n",
       "      <td>1</td>\n",
       "      <td>0</td>\n",
       "      <td>1</td>\n",
       "      <td>0</td>\n",
       "      <td>0</td>\n",
       "      <td>1</td>\n",
       "      <td>0</td>\n",
       "    </tr>\n",
       "    <tr>\n",
       "      <th>498</th>\n",
       "      <td>0</td>\n",
       "      <td>0.500</td>\n",
       "      <td>1.460</td>\n",
       "      <td>5</td>\n",
       "      <td>0</td>\n",
       "      <td>0</td>\n",
       "      <td>0</td>\n",
       "      <td>1</td>\n",
       "      <td>0</td>\n",
       "      <td>1</td>\n",
       "      <td>...</td>\n",
       "      <td>1</td>\n",
       "      <td>0</td>\n",
       "      <td>1</td>\n",
       "      <td>0</td>\n",
       "      <td>1</td>\n",
       "      <td>1</td>\n",
       "      <td>0</td>\n",
       "      <td>0</td>\n",
       "      <td>1</td>\n",
       "      <td>0</td>\n",
       "    </tr>\n",
       "    <tr>\n",
       "      <th>114</th>\n",
       "      <td>0</td>\n",
       "      <td>1.250</td>\n",
       "      <td>1.375</td>\n",
       "      <td>3</td>\n",
       "      <td>0</td>\n",
       "      <td>210</td>\n",
       "      <td>0</td>\n",
       "      <td>1</td>\n",
       "      <td>0</td>\n",
       "      <td>0</td>\n",
       "      <td>...</td>\n",
       "      <td>1</td>\n",
       "      <td>0</td>\n",
       "      <td>1</td>\n",
       "      <td>0</td>\n",
       "      <td>1</td>\n",
       "      <td>1</td>\n",
       "      <td>0</td>\n",
       "      <td>0</td>\n",
       "      <td>0</td>\n",
       "      <td>1</td>\n",
       "    </tr>\n",
       "    <tr>\n",
       "      <th>...</th>\n",
       "      <td>...</td>\n",
       "      <td>...</td>\n",
       "      <td>...</td>\n",
       "      <td>...</td>\n",
       "      <td>...</td>\n",
       "      <td>...</td>\n",
       "      <td>...</td>\n",
       "      <td>...</td>\n",
       "      <td>...</td>\n",
       "      <td>...</td>\n",
       "      <td>...</td>\n",
       "      <td>...</td>\n",
       "      <td>...</td>\n",
       "      <td>...</td>\n",
       "      <td>...</td>\n",
       "      <td>...</td>\n",
       "      <td>...</td>\n",
       "      <td>...</td>\n",
       "      <td>...</td>\n",
       "      <td>...</td>\n",
       "      <td>...</td>\n",
       "    </tr>\n",
       "    <tr>\n",
       "      <th>443</th>\n",
       "      <td>0</td>\n",
       "      <td>3.000</td>\n",
       "      <td>0.040</td>\n",
       "      <td>0</td>\n",
       "      <td>0</td>\n",
       "      <td>40</td>\n",
       "      <td>0</td>\n",
       "      <td>1</td>\n",
       "      <td>0</td>\n",
       "      <td>1</td>\n",
       "      <td>...</td>\n",
       "      <td>0</td>\n",
       "      <td>1</td>\n",
       "      <td>0</td>\n",
       "      <td>0</td>\n",
       "      <td>1</td>\n",
       "      <td>1</td>\n",
       "      <td>0</td>\n",
       "      <td>0</td>\n",
       "      <td>0</td>\n",
       "      <td>1</td>\n",
       "    </tr>\n",
       "    <tr>\n",
       "      <th>334</th>\n",
       "      <td>0</td>\n",
       "      <td>2.500</td>\n",
       "      <td>0.500</td>\n",
       "      <td>0</td>\n",
       "      <td>0</td>\n",
       "      <td>0</td>\n",
       "      <td>0</td>\n",
       "      <td>1</td>\n",
       "      <td>0</td>\n",
       "      <td>1</td>\n",
       "      <td>...</td>\n",
       "      <td>0</td>\n",
       "      <td>1</td>\n",
       "      <td>0</td>\n",
       "      <td>1</td>\n",
       "      <td>0</td>\n",
       "      <td>1</td>\n",
       "      <td>0</td>\n",
       "      <td>0</td>\n",
       "      <td>0</td>\n",
       "      <td>1</td>\n",
       "    </tr>\n",
       "    <tr>\n",
       "      <th>18</th>\n",
       "      <td>0</td>\n",
       "      <td>0.250</td>\n",
       "      <td>0.665</td>\n",
       "      <td>0</td>\n",
       "      <td>0</td>\n",
       "      <td>0</td>\n",
       "      <td>0</td>\n",
       "      <td>1</td>\n",
       "      <td>0</td>\n",
       "      <td>1</td>\n",
       "      <td>...</td>\n",
       "      <td>1</td>\n",
       "      <td>1</td>\n",
       "      <td>0</td>\n",
       "      <td>0</td>\n",
       "      <td>1</td>\n",
       "      <td>1</td>\n",
       "      <td>0</td>\n",
       "      <td>0</td>\n",
       "      <td>1</td>\n",
       "      <td>0</td>\n",
       "    </tr>\n",
       "    <tr>\n",
       "      <th>21</th>\n",
       "      <td>0</td>\n",
       "      <td>1.000</td>\n",
       "      <td>0.835</td>\n",
       "      <td>0</td>\n",
       "      <td>0</td>\n",
       "      <td>0</td>\n",
       "      <td>0</td>\n",
       "      <td>1</td>\n",
       "      <td>0</td>\n",
       "      <td>1</td>\n",
       "      <td>...</td>\n",
       "      <td>1</td>\n",
       "      <td>1</td>\n",
       "      <td>0</td>\n",
       "      <td>1</td>\n",
       "      <td>0</td>\n",
       "      <td>0</td>\n",
       "      <td>0</td>\n",
       "      <td>1</td>\n",
       "      <td>1</td>\n",
       "      <td>0</td>\n",
       "    </tr>\n",
       "    <tr>\n",
       "      <th>677</th>\n",
       "      <td>0</td>\n",
       "      <td>7.250</td>\n",
       "      <td>0.040</td>\n",
       "      <td>1</td>\n",
       "      <td>0</td>\n",
       "      <td>1</td>\n",
       "      <td>0</td>\n",
       "      <td>1</td>\n",
       "      <td>0</td>\n",
       "      <td>1</td>\n",
       "      <td>...</td>\n",
       "      <td>0</td>\n",
       "      <td>0</td>\n",
       "      <td>1</td>\n",
       "      <td>1</td>\n",
       "      <td>0</td>\n",
       "      <td>1</td>\n",
       "      <td>0</td>\n",
       "      <td>0</td>\n",
       "      <td>0</td>\n",
       "      <td>1</td>\n",
       "    </tr>\n",
       "  </tbody>\n",
       "</table>\n",
       "<p>207 rows × 47 columns</p>\n",
       "</div>"
      ],
      "text/plain": [
       "     1      2      7  10  13   14  0_a  0_b  3_l  3_u  ...  8_t  9_f  9_t  \\\n",
       "568  0  0.375  0.375   8   0  162    0    1    0    0  ...    1    0    1   \n",
       "47   0  4.460  6.040   3   0  300    0    1    0    1  ...    1    0    1   \n",
       "269  0  0.165  0.210   0   0   40    0    1    0    1  ...    0    1    0   \n",
       "498  0  0.500  1.460   5   0    0    0    1    0    1  ...    1    0    1   \n",
       "114  0  1.250  1.375   3   0  210    0    1    0    0  ...    1    0    1   \n",
       "..  ..    ...    ...  ..  ..  ...  ...  ...  ...  ...  ...  ...  ...  ...   \n",
       "443  0  3.000  0.040   0   0   40    0    1    0    1  ...    0    1    0   \n",
       "334  0  2.500  0.500   0   0    0    0    1    0    1  ...    0    1    0   \n",
       "18   0  0.250  0.665   0   0    0    0    1    0    1  ...    1    1    0   \n",
       "21   0  1.000  0.835   0   0    0    0    1    0    1  ...    1    1    0   \n",
       "677  0  7.250  0.040   1   0    1    0    1    0    1  ...    0    0    1   \n",
       "\n",
       "     11_f  11_t  12_g  12_p  12_s  15_+  15_-  \n",
       "568     0     1     1     0     0     1     0  \n",
       "47      1     0     1     0     0     1     0  \n",
       "269     1     0     1     0     0     1     0  \n",
       "498     0     1     1     0     0     1     0  \n",
       "114     0     1     1     0     0     0     1  \n",
       "..    ...   ...   ...   ...   ...   ...   ...  \n",
       "443     0     1     1     0     0     0     1  \n",
       "334     1     0     1     0     0     0     1  \n",
       "18      0     1     1     0     0     1     0  \n",
       "21      1     0     0     0     1     1     0  \n",
       "677     1     0     1     0     0     0     1  \n",
       "\n",
       "[207 rows x 47 columns]"
      ]
     },
     "execution_count": 32,
     "metadata": {},
     "output_type": "execute_result"
    }
   ],
   "source": [
    "test_df"
   ]
  },
  {
   "cell_type": "code",
   "execution_count": 33,
   "id": "0ebf1136",
   "metadata": {},
   "outputs": [],
   "source": [
    "#next separate the X_train , y_train ,X_test , y_test \n",
    "X_train , y_train = train_df.iloc[: ,:-2] ,train_df.iloc[: , [-1]].values.ravel()\n",
    "X_test , y_test = test_df.iloc[: ,:-2],test_df.iloc[: , [-1]].values.ravel()"
   ]
  },
  {
   "cell_type": "markdown",
   "id": "7e73e462",
   "metadata": {},
   "source": [
    "##### -Highly correlated features:\n",
    "When two or more features are highly correlated, it means they carry similar information and can potentially introduce multicollinearity issues in the analysis. A heatmap visualizes the correlation between features in a dataset, allowing you to identify highly correlated features."
   ]
  },
  {
   "cell_type": "code",
   "execution_count": 34,
   "id": "a58bd171",
   "metadata": {
    "scrolled": false
   },
   "outputs": [
    {
     "data": {
      "text/plain": [
       "<AxesSubplot:>"
      ]
     },
     "execution_count": 34,
     "metadata": {},
     "output_type": "execute_result"
    },
    {
     "data": {
      "image/png": "[encoded data removed]",
      "text/plain": [
       "<Figure size 1080x1080 with 2 Axes>"
      ]
     },
     "metadata": {
      "needs_background": "light"
     },
     "output_type": "display_data"
    }
   ],
   "source": [
    "#heatmap\n",
    "import seaborn as sns\n",
    "corr_matrix_all = X_train.corr()\n",
    "plt.figure(figsize = (15,15))\n",
    "HM = sns.heatmap(data =corr_matrix_all , annot =False , cmap ='rocket')\n",
    "HM"
   ]
  },
  {
   "cell_type": "markdown",
   "id": "1c81154f",
   "metadata": {},
   "source": [
    "While the heat map provides a visual representation of correlations, manually sorting and identifying standout correlations can be challenging. To simplify this process, we can create a function that automatically sorts the correlations and highlights the most significant ones. This function will save time and make it easier to identify the important correlations for feature selection."
   ]
  },
  {
   "cell_type": "code",
   "execution_count": 35,
   "id": "36aa2ba4",
   "metadata": {},
   "outputs": [],
   "source": [
    "# with the following function we can select highly correlated features\n",
    "# it will remove the first feature that is correlated with any other feature\n",
    "def correlation(dataset, threshold):\n",
    "    col_corr = set()  # Set of all the names of correlated columns\n",
    "    corr_matrix = dataset.corr()\n",
    "    for i in range(len(corr_matrix.columns)):\n",
    "        for j in range(i):\n",
    "            if abs(corr_matrix.iloc[i, j]) > threshold: # we are interested in absolute coeff value\n",
    "                colname = corr_matrix.columns[i]  # getting the name of column\n",
    "                col_corr.add(colname)\n",
    "    return col_corr"
   ]
  },
  {
   "cell_type": "code",
   "execution_count": 36,
   "id": "11e0acd8",
   "metadata": {
    "scrolled": true
   },
   "outputs": [
    {
     "name": "stdout",
     "output_type": "stream",
     "text": [
      "8\n"
     ]
    }
   ],
   "source": [
    "corr_features = correlation(X_train, 0.98)\n",
    "print(len(set(corr_features)))"
   ]
  },
  {
   "cell_type": "code",
   "execution_count": 37,
   "id": "4e0af007",
   "metadata": {},
   "outputs": [
    {
     "data": {
      "text/plain": [
       "{'0_b', '11_t', '3_y', '4_g', '4_gg', '4_p', '8_t', '9_t'}"
      ]
     },
     "execution_count": 37,
     "metadata": {},
     "output_type": "execute_result"
    }
   ],
   "source": [
    "corr_features"
   ]
  },
  {
   "cell_type": "code",
   "execution_count": 38,
   "id": "c7c5c2a7",
   "metadata": {
    "scrolled": true
   },
   "outputs": [],
   "source": [
    "#droping the features\n",
    "X_train.drop(corr_features,axis=1, inplace = True)\n",
    "X_test.drop(corr_features,axis=1, inplace = True)"
   ]
  },
  {
   "cell_type": "markdown",
   "id": "d21790df",
   "metadata": {},
   "source": [
    "##### -Important features:\n",
    "Since the target variable is binary, we can use the t-test to evaluate the importance of features based on their statistical significance. The t-test compares the means of the feature values between the two classes of the target variable. The resulting p-values indicate the statistical significance of the differences in means."
   ]
  },
  {
   "cell_type": "code",
   "execution_count": 39,
   "id": "187973c3",
   "metadata": {},
   "outputs": [],
   "source": [
    "import statsmodels.api as sm\n",
    "\n",
    "# Perform the statistical test using OLS\n",
    "model = sm.OLS(y_train, X_train)\n",
    "results = model.fit()\n",
    "\n",
    "# Get the p-values of each feature\n",
    "p_values = results.pvalues\n",
    "\n",
    "# Set the p-value threshold for feature selection\n",
    "p_value_threshold = 0.07\n",
    "\n",
    "# Select the unimportant features\n",
    "unimportant_features = p_values[p_values > p_value_threshold].index\n",
    "\n",
    "# Drop the unimportant features from the dataset\n",
    "X_train_selected = X_train.drop(unimportant_features, axis=1)\n",
    "X_test_selected = X_test.drop(unimportant_features, axis=1)"
   ]
  },
  {
   "cell_type": "code",
   "execution_count": 40,
   "id": "f3b66cc5",
   "metadata": {},
   "outputs": [
    {
     "data": {
      "text/html": [
       "<div>\n",
       "<style scoped>\n",
       "    .dataframe tbody tr th:only-of-type {\n",
       "        vertical-align: middle;\n",
       "    }\n",
       "\n",
       "    .dataframe tbody tr th {\n",
       "        vertical-align: top;\n",
       "    }\n",
       "\n",
       "    .dataframe thead th {\n",
       "        text-align: right;\n",
       "    }\n",
       "</style>\n",
       "<table border=\"1\" class=\"dataframe\">\n",
       "  <thead>\n",
       "    <tr style=\"text-align: right;\">\n",
       "      <th></th>\n",
       "      <th>10</th>\n",
       "      <th>13</th>\n",
       "      <th>3_l</th>\n",
       "      <th>8_f</th>\n",
       "      <th>9_f</th>\n",
       "      <th>12_g</th>\n",
       "      <th>12_s</th>\n",
       "    </tr>\n",
       "  </thead>\n",
       "  <tbody>\n",
       "    <tr>\n",
       "      <th>505</th>\n",
       "      <td>16</td>\n",
       "      <td>0.0</td>\n",
       "      <td>0</td>\n",
       "      <td>0</td>\n",
       "      <td>0</td>\n",
       "      <td>1</td>\n",
       "      <td>0</td>\n",
       "    </tr>\n",
       "    <tr>\n",
       "      <th>253</th>\n",
       "      <td>1</td>\n",
       "      <td>100.0</td>\n",
       "      <td>0</td>\n",
       "      <td>0</td>\n",
       "      <td>0</td>\n",
       "      <td>1</td>\n",
       "      <td>0</td>\n",
       "    </tr>\n",
       "    <tr>\n",
       "      <th>521</th>\n",
       "      <td>5</td>\n",
       "      <td>99.0</td>\n",
       "      <td>0</td>\n",
       "      <td>0</td>\n",
       "      <td>0</td>\n",
       "      <td>1</td>\n",
       "      <td>0</td>\n",
       "    </tr>\n",
       "    <tr>\n",
       "      <th>242</th>\n",
       "      <td>0</td>\n",
       "      <td>70.0</td>\n",
       "      <td>0</td>\n",
       "      <td>0</td>\n",
       "      <td>1</td>\n",
       "      <td>1</td>\n",
       "      <td>0</td>\n",
       "    </tr>\n",
       "    <tr>\n",
       "      <th>13</th>\n",
       "      <td>0</td>\n",
       "      <td>0.0</td>\n",
       "      <td>0</td>\n",
       "      <td>1</td>\n",
       "      <td>1</td>\n",
       "      <td>1</td>\n",
       "      <td>0</td>\n",
       "    </tr>\n",
       "    <tr>\n",
       "      <th>...</th>\n",
       "      <td>...</td>\n",
       "      <td>...</td>\n",
       "      <td>...</td>\n",
       "      <td>...</td>\n",
       "      <td>...</td>\n",
       "      <td>...</td>\n",
       "      <td>...</td>\n",
       "    </tr>\n",
       "    <tr>\n",
       "      <th>319</th>\n",
       "      <td>0</td>\n",
       "      <td>232.0</td>\n",
       "      <td>0</td>\n",
       "      <td>1</td>\n",
       "      <td>1</td>\n",
       "      <td>1</td>\n",
       "      <td>0</td>\n",
       "    </tr>\n",
       "    <tr>\n",
       "      <th>363</th>\n",
       "      <td>0</td>\n",
       "      <td>200.0</td>\n",
       "      <td>0</td>\n",
       "      <td>1</td>\n",
       "      <td>1</td>\n",
       "      <td>0</td>\n",
       "      <td>1</td>\n",
       "    </tr>\n",
       "    <tr>\n",
       "      <th>445</th>\n",
       "      <td>0</td>\n",
       "      <td>160.0</td>\n",
       "      <td>0</td>\n",
       "      <td>1</td>\n",
       "      <td>1</td>\n",
       "      <td>1</td>\n",
       "      <td>0</td>\n",
       "    </tr>\n",
       "    <tr>\n",
       "      <th>341</th>\n",
       "      <td>0</td>\n",
       "      <td>108.0</td>\n",
       "      <td>0</td>\n",
       "      <td>1</td>\n",
       "      <td>1</td>\n",
       "      <td>1</td>\n",
       "      <td>0</td>\n",
       "    </tr>\n",
       "    <tr>\n",
       "      <th>406</th>\n",
       "      <td>2</td>\n",
       "      <td>160.0</td>\n",
       "      <td>0</td>\n",
       "      <td>1</td>\n",
       "      <td>0</td>\n",
       "      <td>1</td>\n",
       "      <td>0</td>\n",
       "    </tr>\n",
       "  </tbody>\n",
       "</table>\n",
       "<p>483 rows × 7 columns</p>\n",
       "</div>"
      ],
      "text/plain": [
       "     10     13  3_l  8_f  9_f  12_g  12_s\n",
       "505  16    0.0    0    0    0     1     0\n",
       "253   1  100.0    0    0    0     1     0\n",
       "521   5   99.0    0    0    0     1     0\n",
       "242   0   70.0    0    0    1     1     0\n",
       "13    0    0.0    0    1    1     1     0\n",
       "..   ..    ...  ...  ...  ...   ...   ...\n",
       "319   0  232.0    0    1    1     1     0\n",
       "363   0  200.0    0    1    1     0     1\n",
       "445   0  160.0    0    1    1     1     0\n",
       "341   0  108.0    0    1    1     1     0\n",
       "406   2  160.0    0    1    0     1     0\n",
       "\n",
       "[483 rows x 7 columns]"
      ]
     },
     "execution_count": 40,
     "metadata": {},
     "output_type": "execute_result"
    }
   ],
   "source": [
    "#we started with 45 features and now we're down to 7\n",
    "X_train_selected"
   ]
  },
  {
   "cell_type": "markdown",
   "id": "314cf672",
   "metadata": {},
   "source": [
    "### 6.2 Preparing the data for traning:\n",
    "we saw in the EDA part that the numerical attributes are skewed and on different scales so we need to perform some transformation to address these issues before we move on. Log transformation can help address skewness in the data, while standard scaling can bring the features to a similar scale."
   ]
  },
  {
   "cell_type": "code",
   "execution_count": 41,
   "id": "147e7056",
   "metadata": {},
   "outputs": [],
   "source": [
    "from sklearn.pipeline import Pipeline\n",
    "from sklearn.compose import ColumnTransformer\n",
    "from sklearn.preprocessing import StandardScaler, FunctionTransformer\n",
    "\n",
    "X_train_selected.columns = X_train_selected.columns.astype(str)\n",
    "X_test_selected.columns = X_test_selected.columns.astype(str)\n",
    "\n",
    "# Numerical attributes in X_train_selected and X_test_selected\n",
    "numerical_cols = ['10', '13']\n",
    "\n",
    "# categorical attributes in X_train_selected and X_test_selected\n",
    "categorical_cols = [col for col in X_train_selected.columns if col not in numerical_cols]\n",
    "\n",
    "# Define the log transformation function\n",
    "log_transformer = FunctionTransformer(func=np.log1p)\n",
    "\n",
    "# Define the column transformer for numerical and categorical features\n",
    "preprocessor = ColumnTransformer(\n",
    "    transformers=[\n",
    "        ('numerical', Pipeline([\n",
    "            ('log_transform', log_transformer),\n",
    "            ('scaler', StandardScaler())\n",
    "        ]), numerical_cols),\n",
    "        ('categorical', 'passthrough', categorical_cols)\n",
    "    ]\n",
    ")\n",
    "\n",
    "# Apply the preprocessing pipeline to X_train_selected and X_test_selected\n",
    "rescaledX_train = preprocessor.fit_transform(X_train_selected)\n",
    "rescaledX_test = preprocessor.transform(X_test_selected)\n"
   ]
  },
  {
   "cell_type": "markdown",
   "id": "32d9849d",
   "metadata": {},
   "source": [
    "## 7.Trying out different models \n",
    "Now that we've put in the hard work, it's time to try out different models and see which ones show the most promise. Since this is a classification problem for credit card approval, I'm going to give Logistic Regression, Random Forest Classifier, SVC, and K-Nearest Neighbors Classifier a shot. We'll evaluate their performance and see which approach works best for our project. It's important to experiment and see how each model performs to make sure we're making the right choice."
   ]
  },
  {
   "cell_type": "markdown",
   "id": "fe245129",
   "metadata": {},
   "source": [
    "##### -Models prediction and evaluation"
   ]
  },
  {
   "cell_type": "code",
   "execution_count": 42,
   "id": "f4a3d928",
   "metadata": {
    "scrolled": true
   },
   "outputs": [
    {
     "name": "stdout",
     "output_type": "stream",
     "text": [
      "Model: Logistic Regression\n",
      "Accuracy: 0.8612972508591066\n",
      "Precision: 0.8636706508165517\n",
      "Recall: 0.8666999821234136\n",
      "F1-Score: 0.8609384287022012\n",
      "\n",
      "Model: Random Forest\n",
      "Accuracy: 0.8530283505154639\n",
      "Precision: 0.8554853862853647\n",
      "Recall: 0.8528700047129183\n",
      "F1-Score: 0.8513037182430792\n",
      "\n",
      "Model: SVM\n",
      "Accuracy: 0.8716494845360826\n",
      "Precision: 0.8713447957707242\n",
      "Recall: 0.8751166040986137\n",
      "F1-Score: 0.8710752569579994\n",
      "\n",
      "Model: KNN\n",
      "Accuracy: 0.8674613402061855\n",
      "Precision: 0.8662698617464774\n",
      "Recall: 0.8672192157053938\n",
      "F1-Score: 0.8660948056898548\n",
      "\n"
     ]
    }
   ],
   "source": [
    "from sklearn.linear_model import LogisticRegression\n",
    "from sklearn.ensemble import RandomForestClassifier\n",
    "from sklearn.svm import SVC\n",
    "from sklearn.neighbors import KNeighborsClassifier\n",
    "from sklearn.model_selection import cross_val_score\n",
    "\n",
    "# Define the models\n",
    "models = [\n",
    "    ('Logistic Regression', LogisticRegression()),\n",
    "    ('Random Forest', RandomForestClassifier()),\n",
    "    ('SVM', SVC()),\n",
    "    ('KNN', KNeighborsClassifier())\n",
    "]\n",
    "\n",
    "# Initialize lists to store evaluation metrics\n",
    "accuracy_scores = []\n",
    "precision_scores = []\n",
    "recall_scores = []\n",
    "f1_scores = []\n",
    "\n",
    "# Evaluate models using cross-validation\n",
    "for name, model in models:\n",
    "    scores = cross_val_score(model, rescaledX_train, y_train, cv=5, scoring='accuracy')\n",
    "    \n",
    "    accuracy = scores.mean()\n",
    "    precision = cross_val_score(model, rescaledX_train, y_train, cv=5, scoring='precision_macro').mean()\n",
    "    recall = cross_val_score(model, rescaledX_train, y_train, cv=5, scoring='recall_macro').mean()\n",
    "    f1 = cross_val_score(model, rescaledX_train, y_train, cv=5, scoring='f1_macro').mean()\n",
    "    \n",
    "    accuracy_scores.append(accuracy)\n",
    "    precision_scores.append(precision)\n",
    "    recall_scores.append(recall)\n",
    "    f1_scores.append(f1)\n",
    "    \n",
    "    print(f\"Model: {name}\")\n",
    "    print(f\"Accuracy: {accuracy}\")\n",
    "    print(f\"Precision: {precision}\")\n",
    "    print(f\"Recall: {recall}\")\n",
    "    print(f\"F1-Score: {f1}\")\n",
    "    print()\n"
   ]
  },
  {
   "cell_type": "code",
   "execution_count": 43,
   "id": "73636119",
   "metadata": {
    "scrolled": false
   },
   "outputs": [
    {
     "data": {
      "image/png": "[encoded data removed]",
      "text/plain": [
       "<Figure size 720x432 with 1 Axes>"
      ]
     },
     "metadata": {
      "needs_background": "light"
     },
     "output_type": "display_data"
    }
   ],
   "source": [
    "# Visualize model performance\n",
    "metrics = ['Accuracy', 'Precision', 'Recall', 'F1-Score']\n",
    "scores = [accuracy_scores, precision_scores, recall_scores, f1_scores]\n",
    "\n",
    "plt.figure(figsize=(10, 6))\n",
    "for i, metric in enumerate(metrics):\n",
    "    plt.plot([name for name, _ in models], scores[i], label=metric)\n",
    "\n",
    "plt.xlabel('Models')\n",
    "plt.ylabel('Score')\n",
    "plt.title('Model Performance')\n",
    "plt.legend()\n",
    "plt.xticks(rotation=45)\n",
    "plt.show()"
   ]
  },
  {
   "cell_type": "markdown",
   "id": "1f198b7a",
   "metadata": {},
   "source": [
    "When evaluating the performance of our models, we have four different measures to choose from. Each measure focuses on a specific aspect of the model's predictions. Depending on the task at hand, we can select the most suitable measure to assess the performance.\n",
    "\n",
    "For example, if our main concern is to avoid classifying \"denied\" cases as \"Approved,\" we should look at the Precision score. It tells us how many of the predicted \"Approved\" cases are actually correct. On the other hand, if we want to ensure that \"Approved\" cases are not wrongly classified as \"denied,\" we should consider the Recall score. It indicates the proportion of actual \"Approved\" cases that are correctly identified.\n",
    "\n",
    "If our goal is to have an overall understanding of the model's correctness, we can rely on the Accuracy score. It gives us the percentage of correctly predicted cases, regardless of the specific class.\n",
    "\n",
    "For this project, I've chosen accuracy score as the evaluation metric to determine the best model. After evaluating the models, it is evident that all of them have demonstrated promising performance, indicating their potential for further enhancement through fine-tuning. Since the number of models is limited, it is feasible to fine-tune each of them without excessive time or resource requirements. This allows you to explore and maximize the potential of each model for better predictive analysis."
   ]
  },
  {
   "cell_type": "markdown",
   "id": "f30816e6",
   "metadata": {},
   "source": [
    "##### - fine-tuning the most promising models:\n",
    "Fine-tuning involves optimizing the models by selecting the best hyperparameters that yield the highest performance. This process helps to further enhance the accuracy, precision, recall, and F1-score of the models. By fine-tuning the models, we can ensure that they are well-optimized and capable of making more accurate predictions."
   ]
  },
  {
   "cell_type": "code",
   "execution_count": 44,
   "id": "fec17a19",
   "metadata": {
    "scrolled": true
   },
   "outputs": [
    {
     "name": "stdout",
     "output_type": "stream",
     "text": [
      "Model: Logistic Regression\n",
      "Best Parameters: {'C': 1, 'penalty': 'l1'}\n",
      "Cross-validated Accuracy: 0.8612972508591066\n",
      "\n",
      "Model: Random Forest\n",
      "Best Parameters: {'max_depth': 10, 'min_samples_split': 6, 'n_estimators': 300}\n",
      "Cross-validated Accuracy: 0.8819802405498282\n",
      "\n",
      "Model: SVM\n",
      "Best Parameters: {'C': 1, 'gamma': 'scale', 'kernel': 'rbf'}\n",
      "Cross-validated Accuracy: 0.8716494845360826\n",
      "\n",
      "Model: KNN\n",
      "Best Parameters: {'n_neighbors': 3, 'weights': 'uniform'}\n",
      "Cross-validated Accuracy: 0.8757517182130584\n",
      "\n"
     ]
    }
   ],
   "source": [
    "from sklearn.model_selection import GridSearchCV\n",
    "from sklearn.linear_model import LogisticRegression\n",
    "from sklearn.ensemble import RandomForestClassifier\n",
    "from sklearn.svm import SVC\n",
    "from sklearn.neighbors import KNeighborsClassifier\n",
    "\n",
    "# Define the models and their respective parameter grids\n",
    "models = {\n",
    "    'Logistic Regression': {\n",
    "        'model': LogisticRegression(solver='liblinear'),\n",
    "        'param_grid': {\n",
    "            'C': [0.1, 1, 10],\n",
    "            'penalty': ['l1', 'l2']\n",
    "        }\n",
    "    },\n",
    "    'Random Forest': {\n",
    "        'model': RandomForestClassifier(),\n",
    "        'param_grid': {\n",
    "            'n_estimators': [100, 200, 300],\n",
    "            'max_depth': [None, 5, 10],\n",
    "            'min_samples_split': [2, 4, 6]\n",
    "        }\n",
    "    },\n",
    "    'SVM': {\n",
    "        'model': SVC(),\n",
    "        'param_grid': {\n",
    "            'C': [0.1, 1, 10],\n",
    "            'kernel': ['linear', 'rbf'],\n",
    "            'gamma': ['scale', 'auto']\n",
    "        }\n",
    "    },\n",
    "    'KNN': {\n",
    "        'model': KNeighborsClassifier(),\n",
    "        'param_grid': {\n",
    "            'n_neighbors': [3, 5, 7],\n",
    "            'weights': ['uniform', 'distance']\n",
    "        }\n",
    "    }\n",
    "}\n",
    "\n",
    "best_model = None\n",
    "best_score = 0\n",
    "\n",
    "model_names = []\n",
    "accuracies = []\n",
    "\n",
    "# Perform cross-validation and grid search for each model\n",
    "for model_name, model_info in models.items():\n",
    "    print(f\"Model: {model_name}\")\n",
    "    model = model_info['model']\n",
    "    param_grid = model_info['param_grid']\n",
    "    \n",
    "    # Perform grid search with 5-fold cross-validation\n",
    "    grid_search = GridSearchCV(model, param_grid, cv=5, scoring='accuracy',error_score='raise')\n",
    "    grid_search.fit(rescaledX_train, y_train)\n",
    "    \n",
    "    # Track the model name and accuracy\n",
    "    model_names.append(model_name)\n",
    "    accuracies.append(grid_search.best_score_)\n",
    "\n",
    "    # Print the best parameters and the corresponding cross-validated accuracy\n",
    "    print(\"Best Parameters:\", grid_search.best_params_)\n",
    "    print(\"Cross-validated Accuracy:\", grid_search.best_score_)\n",
    "    print()\n",
    "    \n",
    "    # Track the best performing model\n",
    "    if grid_search.best_score_ > best_score:\n",
    "        best_model = grid_search.best_estimator_\n",
    "        best_score = grid_search.best_score_"
   ]
  },
  {
   "cell_type": "markdown",
   "id": "63249ac8",
   "metadata": {},
   "source": [
    "as you can see after finding the best parameters through grid search, there is an improvement in the accuracy scores of the models."
   ]
  },
  {
   "cell_type": "code",
   "execution_count": 45,
   "id": "e0c2fadd",
   "metadata": {
    "scrolled": false
   },
   "outputs": [
    {
     "data": {
      "image/png": "[encoded data removed]",
      "text/plain": [
       "<Figure size 432x288 with 1 Axes>"
      ]
     },
     "metadata": {
      "needs_background": "light"
     },
     "output_type": "display_data"
    }
   ],
   "source": [
    "# Create a line plot of the accuracies\n",
    "plt.plot(model_names, accuracies, marker='o')\n",
    "plt.xlabel('Model')\n",
    "plt.ylabel('Accuracy')\n",
    "plt.title('Cross-Validated Accuracies of Models')\n",
    "plt.xticks(rotation=45)\n",
    "plt.grid(True)\n",
    "plt.show()"
   ]
  },
  {
   "cell_type": "markdown",
   "id": "0e66a3f7",
   "metadata": {},
   "source": [
    "## 8.Evaluating the best performing model on the test set\n",
    "After performing the grid search and cross-validation to fine-tune the models, it's common practice to evaluate the best performing model on the test set to get an unbiased estimate of its performance and help assess its generalization capabilities and how well it performs on unseen data. By using the test set, which was not used during the model selection or parameter tuning process, you can obtain an unbiased estimate of the model's performance."
   ]
  },
  {
   "cell_type": "code",
   "execution_count": 47,
   "id": "3417876a",
   "metadata": {},
   "outputs": [
    {
     "name": "stdout",
     "output_type": "stream",
     "text": [
      "Evaluation Metrics for Best Model:RandomForestClassifier(max_depth=10, min_samples_split=6, n_estimators=300)\n",
      "Accuracy: 0.8405797101449275\n",
      "Precision: 0.9456521739130435\n",
      "Recall: 0.7565217391304347\n",
      "F1-Score: 0.8405797101449275\n"
     ]
    }
   ],
   "source": [
    "from sklearn.metrics import accuracy_score, precision_score, recall_score, f1_score\n",
    "\n",
    "# Evaluate the best model on the test set\n",
    "y_pred = best_model.predict(rescaledX_test)\n",
    "\n",
    "# Calculate evaluation metrics\n",
    "accuracy = accuracy_score(y_test, y_pred)\n",
    "precision = precision_score(y_test, y_pred)\n",
    "recall = recall_score(y_test, y_pred)\n",
    "f1 = f1_score(y_test, y_pred)\n",
    "\n",
    "# Print the evaluation metrics\n",
    "print(f\"Evaluation Metrics for Best Model:{best_model}\")\n",
    "print(f\"Accuracy: {accuracy}\")\n",
    "print(f\"Precision: {precision}\")\n",
    "print(f\"Recall: {recall}\")\n",
    "print(f\"F1-Score: {f1}\")\n"
   ]
  },
  {
   "cell_type": "markdown",
   "id": "1fc68540",
   "metadata": {},
   "source": [
    "## 9.Conclusion\n",
    "The results were very close, but it was clear that the Random Forest model emerged as the best performer. With an accuracy of 0.88 on the validation set and 0.84 on the test data, it proved to be a valuable tool for predictive analysis in this project. \n",
    "\n",
    "And just like that we are done my friend, see you in another project!"
   ]
  }
 ],
 "metadata": {
  "kernelspec": {
   "display_name": "Python 3 (ipykernel)",
   "language": "python",
   "name": "python3"
  },
  "language_info": {
   "codemirror_mode": {
    "name": "ipython",
    "version": 3
   },
   "file_extension": ".py",
   "mimetype": "text/x-python",
   "name": "python",
   "nbconvert_exporter": "python",
   "pygments_lexer": "ipython3",
   "version": "3.9.12"
  }
 },
 "nbformat": 4,
 "nbformat_minor": 5
}
